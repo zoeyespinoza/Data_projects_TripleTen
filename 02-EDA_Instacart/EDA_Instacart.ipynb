{
 "cells": [
  {
   "attachments": {},
   "cell_type": "markdown",
   "id": "bcd69d5f",
   "metadata": {},
   "source": [
    "# Data Analysis of Instacart Customer Patterns"
   ]
  },
  {
   "cell_type": "markdown",
   "id": "9bc3266f",
   "metadata": {},
   "source": [
    "# Project Description\n",
    "In this project, we will be analyzing datasets from Instacart, a grocery delivery platform. The data consists of five separate CSV files: 'instacart_orders.csv', 'products.csv', 'order_products.csv', 'aisles.csv', and 'departments.csv'. This particular dataset was [publicly released](https://tech.instacart.com/3-million-instacart-orders-open-sourced-d40d29ead6f2) by Instacart in 2017 for a [Kaggle competition](https://www.kaggle.com/c/instacart-market-basket-analysis/overview). After cleaning up the data, we can prepare a report that gives insight into the shopping habits of Instacart customers."
   ]
  },
  {
   "attachments": {},
   "cell_type": "markdown",
   "id": "92efdbc8",
   "metadata": {},
   "source": [
    "## Load Libraries"
   ]
  },
  {
   "cell_type": "code",
   "execution_count": 1,
   "id": "ad36396d",
   "metadata": {},
   "outputs": [],
   "source": [
    "import pandas as pd \n",
    "import matplotlib.pyplot as plt\n",
    "import numpy as np"
   ]
  },
  {
   "attachments": {},
   "cell_type": "markdown",
   "id": "8938f468",
   "metadata": {},
   "source": [
    "## Load and Preprocess Data"
   ]
  },
  {
   "cell_type": "code",
   "execution_count": null,
   "id": "e09c9cef",
   "metadata": {},
   "outputs": [],
   "source": [
    "orders = pd.read_csv('/datasets/instacart_orders.csv', sep= \";\") #remove ;"
   ]
  },
  {
   "cell_type": "code",
   "execution_count": null,
   "id": "33fedea1",
   "metadata": {},
   "outputs": [],
   "source": [
    "orders.info()\n",
    "display(orders)"
   ]
  },
  {
   "cell_type": "code",
   "execution_count": 2,
   "id": "ad6a1efa",
   "metadata": {},
   "outputs": [
    {
     "name": "stdout",
     "output_type": "stream",
     "text": [
      "<class 'pandas.core.frame.DataFrame'>\n",
      "RangeIndex: 478967 entries, 0 to 478966\n",
      "Data columns (total 7 columns):\n",
      " #   Column                  Non-Null Count   Dtype         \n",
      "---  ------                  --------------   -----         \n",
      " 0   order_id                478967 non-null  int64         \n",
      " 1   user_id                 478967 non-null  int64         \n",
      " 2   order_number            478967 non-null  int64         \n",
      " 3   order_dow               478967 non-null  int64         \n",
      " 4   order_hour_of_day       478967 non-null  int64         \n",
      " 5   days_since_prior_order  450148 non-null  float64       \n",
      " 6   order_hour              478967 non-null  datetime64[ns]\n",
      "dtypes: datetime64[ns](1), float64(1), int64(5)\n",
      "memory usage: 25.6 MB\n"
     ]
    },
    {
     "data": {
      "text/html": [
       "<div>\n",
       "<style scoped>\n",
       "    .dataframe tbody tr th:only-of-type {\n",
       "        vertical-align: middle;\n",
       "    }\n",
       "\n",
       "    .dataframe tbody tr th {\n",
       "        vertical-align: top;\n",
       "    }\n",
       "\n",
       "    .dataframe thead th {\n",
       "        text-align: right;\n",
       "    }\n",
       "</style>\n",
       "<table border=\"1\" class=\"dataframe\">\n",
       "  <thead>\n",
       "    <tr style=\"text-align: right;\">\n",
       "      <th></th>\n",
       "      <th>order_id</th>\n",
       "      <th>user_id</th>\n",
       "      <th>order_number</th>\n",
       "      <th>order_dow</th>\n",
       "      <th>order_hour_of_day</th>\n",
       "      <th>days_since_prior_order</th>\n",
       "      <th>order_hour</th>\n",
       "    </tr>\n",
       "  </thead>\n",
       "  <tbody>\n",
       "    <tr>\n",
       "      <th>0</th>\n",
       "      <td>1515936</td>\n",
       "      <td>183418</td>\n",
       "      <td>11</td>\n",
       "      <td>6</td>\n",
       "      <td>13</td>\n",
       "      <td>30.0</td>\n",
       "      <td>1900-01-01 13:00:00</td>\n",
       "    </tr>\n",
       "    <tr>\n",
       "      <th>1</th>\n",
       "      <td>1690866</td>\n",
       "      <td>163593</td>\n",
       "      <td>5</td>\n",
       "      <td>5</td>\n",
       "      <td>12</td>\n",
       "      <td>9.0</td>\n",
       "      <td>1900-01-01 12:00:00</td>\n",
       "    </tr>\n",
       "    <tr>\n",
       "      <th>2</th>\n",
       "      <td>1454967</td>\n",
       "      <td>39980</td>\n",
       "      <td>4</td>\n",
       "      <td>5</td>\n",
       "      <td>19</td>\n",
       "      <td>2.0</td>\n",
       "      <td>1900-01-01 19:00:00</td>\n",
       "    </tr>\n",
       "    <tr>\n",
       "      <th>3</th>\n",
       "      <td>1768857</td>\n",
       "      <td>82516</td>\n",
       "      <td>56</td>\n",
       "      <td>0</td>\n",
       "      <td>20</td>\n",
       "      <td>10.0</td>\n",
       "      <td>1900-01-01 20:00:00</td>\n",
       "    </tr>\n",
       "    <tr>\n",
       "      <th>4</th>\n",
       "      <td>3007858</td>\n",
       "      <td>196724</td>\n",
       "      <td>2</td>\n",
       "      <td>4</td>\n",
       "      <td>12</td>\n",
       "      <td>17.0</td>\n",
       "      <td>1900-01-01 12:00:00</td>\n",
       "    </tr>\n",
       "    <tr>\n",
       "      <th>...</th>\n",
       "      <td>...</td>\n",
       "      <td>...</td>\n",
       "      <td>...</td>\n",
       "      <td>...</td>\n",
       "      <td>...</td>\n",
       "      <td>...</td>\n",
       "      <td>...</td>\n",
       "    </tr>\n",
       "    <tr>\n",
       "      <th>478962</th>\n",
       "      <td>3210681</td>\n",
       "      <td>5617</td>\n",
       "      <td>5</td>\n",
       "      <td>1</td>\n",
       "      <td>14</td>\n",
       "      <td>7.0</td>\n",
       "      <td>1900-01-01 14:00:00</td>\n",
       "    </tr>\n",
       "    <tr>\n",
       "      <th>478963</th>\n",
       "      <td>3270802</td>\n",
       "      <td>112087</td>\n",
       "      <td>2</td>\n",
       "      <td>3</td>\n",
       "      <td>13</td>\n",
       "      <td>6.0</td>\n",
       "      <td>1900-01-01 13:00:00</td>\n",
       "    </tr>\n",
       "    <tr>\n",
       "      <th>478964</th>\n",
       "      <td>885349</td>\n",
       "      <td>82944</td>\n",
       "      <td>16</td>\n",
       "      <td>2</td>\n",
       "      <td>11</td>\n",
       "      <td>6.0</td>\n",
       "      <td>1900-01-01 11:00:00</td>\n",
       "    </tr>\n",
       "    <tr>\n",
       "      <th>478965</th>\n",
       "      <td>216274</td>\n",
       "      <td>4391</td>\n",
       "      <td>3</td>\n",
       "      <td>3</td>\n",
       "      <td>8</td>\n",
       "      <td>8.0</td>\n",
       "      <td>1900-01-01 08:00:00</td>\n",
       "    </tr>\n",
       "    <tr>\n",
       "      <th>478966</th>\n",
       "      <td>2071924</td>\n",
       "      <td>1730</td>\n",
       "      <td>18</td>\n",
       "      <td>1</td>\n",
       "      <td>14</td>\n",
       "      <td>15.0</td>\n",
       "      <td>1900-01-01 14:00:00</td>\n",
       "    </tr>\n",
       "  </tbody>\n",
       "</table>\n",
       "<p>478967 rows × 7 columns</p>\n",
       "</div>"
      ],
      "text/plain": [
       "        order_id  user_id  order_number  order_dow  order_hour_of_day  \\\n",
       "0        1515936   183418            11          6                 13   \n",
       "1        1690866   163593             5          5                 12   \n",
       "2        1454967    39980             4          5                 19   \n",
       "3        1768857    82516            56          0                 20   \n",
       "4        3007858   196724             2          4                 12   \n",
       "...          ...      ...           ...        ...                ...   \n",
       "478962   3210681     5617             5          1                 14   \n",
       "478963   3270802   112087             2          3                 13   \n",
       "478964    885349    82944            16          2                 11   \n",
       "478965    216274     4391             3          3                  8   \n",
       "478966   2071924     1730            18          1                 14   \n",
       "\n",
       "        days_since_prior_order          order_hour  \n",
       "0                         30.0 1900-01-01 13:00:00  \n",
       "1                          9.0 1900-01-01 12:00:00  \n",
       "2                          2.0 1900-01-01 19:00:00  \n",
       "3                         10.0 1900-01-01 20:00:00  \n",
       "4                         17.0 1900-01-01 12:00:00  \n",
       "...                        ...                 ...  \n",
       "478962                     7.0 1900-01-01 14:00:00  \n",
       "478963                     6.0 1900-01-01 13:00:00  \n",
       "478964                     6.0 1900-01-01 11:00:00  \n",
       "478965                     8.0 1900-01-01 08:00:00  \n",
       "478966                    15.0 1900-01-01 14:00:00  \n",
       "\n",
       "[478967 rows x 7 columns]"
      ]
     },
     "metadata": {},
     "output_type": "display_data"
    }
   ],
   "source": [
    "orders['order_hour'] = pd.to_datetime(orders['order_hour_of_day'], format='%H').dt.time\n",
    "orders['order_hour'] = pd.to_datetime(orders['order_hour'], format='%H:%M:%S')"
   ]
  },
  {
   "cell_type": "code",
   "execution_count": 3,
   "id": "5130e05e",
   "metadata": {},
   "outputs": [
    {
     "name": "stdout",
     "output_type": "stream",
     "text": [
      "<class 'pandas.core.frame.DataFrame'>\n",
      "RangeIndex: 49694 entries, 0 to 49693\n",
      "Data columns (total 4 columns):\n",
      " #   Column         Non-Null Count  Dtype \n",
      "---  ------         --------------  ----- \n",
      " 0   product_id     49694 non-null  int64 \n",
      " 1   product_name   48436 non-null  object\n",
      " 2   aisle_id       49694 non-null  int64 \n",
      " 3   department_id  49694 non-null  int64 \n",
      "dtypes: int64(3), object(1)\n",
      "memory usage: 1.5+ MB\n"
     ]
    },
    {
     "data": {
      "text/html": [
       "<div>\n",
       "<style scoped>\n",
       "    .dataframe tbody tr th:only-of-type {\n",
       "        vertical-align: middle;\n",
       "    }\n",
       "\n",
       "    .dataframe tbody tr th {\n",
       "        vertical-align: top;\n",
       "    }\n",
       "\n",
       "    .dataframe thead th {\n",
       "        text-align: right;\n",
       "    }\n",
       "</style>\n",
       "<table border=\"1\" class=\"dataframe\">\n",
       "  <thead>\n",
       "    <tr style=\"text-align: right;\">\n",
       "      <th></th>\n",
       "      <th>product_id</th>\n",
       "      <th>product_name</th>\n",
       "      <th>aisle_id</th>\n",
       "      <th>department_id</th>\n",
       "    </tr>\n",
       "  </thead>\n",
       "  <tbody>\n",
       "    <tr>\n",
       "      <th>0</th>\n",
       "      <td>1</td>\n",
       "      <td>Chocolate Sandwich Cookies</td>\n",
       "      <td>61</td>\n",
       "      <td>19</td>\n",
       "    </tr>\n",
       "    <tr>\n",
       "      <th>1</th>\n",
       "      <td>2</td>\n",
       "      <td>All-Seasons Salt</td>\n",
       "      <td>104</td>\n",
       "      <td>13</td>\n",
       "    </tr>\n",
       "    <tr>\n",
       "      <th>2</th>\n",
       "      <td>3</td>\n",
       "      <td>Robust Golden Unsweetened Oolong Tea</td>\n",
       "      <td>94</td>\n",
       "      <td>7</td>\n",
       "    </tr>\n",
       "    <tr>\n",
       "      <th>3</th>\n",
       "      <td>4</td>\n",
       "      <td>Smart Ones Classic Favorites Mini Rigatoni Wit...</td>\n",
       "      <td>38</td>\n",
       "      <td>1</td>\n",
       "    </tr>\n",
       "    <tr>\n",
       "      <th>4</th>\n",
       "      <td>5</td>\n",
       "      <td>Green Chile Anytime Sauce</td>\n",
       "      <td>5</td>\n",
       "      <td>13</td>\n",
       "    </tr>\n",
       "    <tr>\n",
       "      <th>...</th>\n",
       "      <td>...</td>\n",
       "      <td>...</td>\n",
       "      <td>...</td>\n",
       "      <td>...</td>\n",
       "    </tr>\n",
       "    <tr>\n",
       "      <th>49689</th>\n",
       "      <td>49690</td>\n",
       "      <td>HIGH PERFORMANCE ENERGY DRINK</td>\n",
       "      <td>64</td>\n",
       "      <td>7</td>\n",
       "    </tr>\n",
       "    <tr>\n",
       "      <th>49690</th>\n",
       "      <td>49691</td>\n",
       "      <td>ORIGINAL PANCAKE &amp; WAFFLE MIX</td>\n",
       "      <td>130</td>\n",
       "      <td>14</td>\n",
       "    </tr>\n",
       "    <tr>\n",
       "      <th>49691</th>\n",
       "      <td>49692</td>\n",
       "      <td>ORGANIC INSTANT OATMEAL LIGHT MAPLE BROWN SUGAR</td>\n",
       "      <td>130</td>\n",
       "      <td>14</td>\n",
       "    </tr>\n",
       "    <tr>\n",
       "      <th>49692</th>\n",
       "      <td>49693</td>\n",
       "      <td>SPRING WATER BODY WASH</td>\n",
       "      <td>127</td>\n",
       "      <td>11</td>\n",
       "    </tr>\n",
       "    <tr>\n",
       "      <th>49693</th>\n",
       "      <td>49694</td>\n",
       "      <td>BURRITO- STEAK &amp; CHEESE</td>\n",
       "      <td>38</td>\n",
       "      <td>1</td>\n",
       "    </tr>\n",
       "  </tbody>\n",
       "</table>\n",
       "<p>49694 rows × 4 columns</p>\n",
       "</div>"
      ],
      "text/plain": [
       "       product_id                                       product_name  \\\n",
       "0               1                         Chocolate Sandwich Cookies   \n",
       "1               2                                   All-Seasons Salt   \n",
       "2               3               Robust Golden Unsweetened Oolong Tea   \n",
       "3               4  Smart Ones Classic Favorites Mini Rigatoni Wit...   \n",
       "4               5                          Green Chile Anytime Sauce   \n",
       "...           ...                                                ...   \n",
       "49689       49690                      HIGH PERFORMANCE ENERGY DRINK   \n",
       "49690       49691                      ORIGINAL PANCAKE & WAFFLE MIX   \n",
       "49691       49692    ORGANIC INSTANT OATMEAL LIGHT MAPLE BROWN SUGAR   \n",
       "49692       49693                             SPRING WATER BODY WASH   \n",
       "49693       49694                            BURRITO- STEAK & CHEESE   \n",
       "\n",
       "       aisle_id  department_id  \n",
       "0            61             19  \n",
       "1           104             13  \n",
       "2            94              7  \n",
       "3            38              1  \n",
       "4             5             13  \n",
       "...         ...            ...  \n",
       "49689        64              7  \n",
       "49690       130             14  \n",
       "49691       130             14  \n",
       "49692       127             11  \n",
       "49693        38              1  \n",
       "\n",
       "[49694 rows x 4 columns]"
      ]
     },
     "metadata": {},
     "output_type": "display_data"
    }
   ],
   "source": [
    "products = pd.read_csv('/datasets/products.csv', sep= \";\")\n",
    "products.info()\n",
    "display(products)"
   ]
  },
  {
   "cell_type": "code",
   "execution_count": 4,
   "id": "d8370c05",
   "metadata": {},
   "outputs": [
    {
     "name": "stdout",
     "output_type": "stream",
     "text": [
      "<class 'pandas.core.frame.DataFrame'>\n",
      "RangeIndex: 134 entries, 0 to 133\n",
      "Data columns (total 2 columns):\n",
      " #   Column    Non-Null Count  Dtype \n",
      "---  ------    --------------  ----- \n",
      " 0   aisle_id  134 non-null    int64 \n",
      " 1   aisle     134 non-null    object\n",
      "dtypes: int64(1), object(1)\n",
      "memory usage: 2.2+ KB\n"
     ]
    },
    {
     "data": {
      "text/html": [
       "<div>\n",
       "<style scoped>\n",
       "    .dataframe tbody tr th:only-of-type {\n",
       "        vertical-align: middle;\n",
       "    }\n",
       "\n",
       "    .dataframe tbody tr th {\n",
       "        vertical-align: top;\n",
       "    }\n",
       "\n",
       "    .dataframe thead th {\n",
       "        text-align: right;\n",
       "    }\n",
       "</style>\n",
       "<table border=\"1\" class=\"dataframe\">\n",
       "  <thead>\n",
       "    <tr style=\"text-align: right;\">\n",
       "      <th></th>\n",
       "      <th>aisle_id</th>\n",
       "      <th>aisle</th>\n",
       "    </tr>\n",
       "  </thead>\n",
       "  <tbody>\n",
       "    <tr>\n",
       "      <th>0</th>\n",
       "      <td>1</td>\n",
       "      <td>prepared soups salads</td>\n",
       "    </tr>\n",
       "    <tr>\n",
       "      <th>1</th>\n",
       "      <td>2</td>\n",
       "      <td>specialty cheeses</td>\n",
       "    </tr>\n",
       "    <tr>\n",
       "      <th>2</th>\n",
       "      <td>3</td>\n",
       "      <td>energy granola bars</td>\n",
       "    </tr>\n",
       "    <tr>\n",
       "      <th>3</th>\n",
       "      <td>4</td>\n",
       "      <td>instant foods</td>\n",
       "    </tr>\n",
       "    <tr>\n",
       "      <th>4</th>\n",
       "      <td>5</td>\n",
       "      <td>marinades meat preparation</td>\n",
       "    </tr>\n",
       "    <tr>\n",
       "      <th>...</th>\n",
       "      <td>...</td>\n",
       "      <td>...</td>\n",
       "    </tr>\n",
       "    <tr>\n",
       "      <th>129</th>\n",
       "      <td>130</td>\n",
       "      <td>hot cereal pancake mixes</td>\n",
       "    </tr>\n",
       "    <tr>\n",
       "      <th>130</th>\n",
       "      <td>131</td>\n",
       "      <td>dry pasta</td>\n",
       "    </tr>\n",
       "    <tr>\n",
       "      <th>131</th>\n",
       "      <td>132</td>\n",
       "      <td>beauty</td>\n",
       "    </tr>\n",
       "    <tr>\n",
       "      <th>132</th>\n",
       "      <td>133</td>\n",
       "      <td>muscles joints pain relief</td>\n",
       "    </tr>\n",
       "    <tr>\n",
       "      <th>133</th>\n",
       "      <td>134</td>\n",
       "      <td>specialty wines champagnes</td>\n",
       "    </tr>\n",
       "  </tbody>\n",
       "</table>\n",
       "<p>134 rows × 2 columns</p>\n",
       "</div>"
      ],
      "text/plain": [
       "     aisle_id                       aisle\n",
       "0           1       prepared soups salads\n",
       "1           2           specialty cheeses\n",
       "2           3         energy granola bars\n",
       "3           4               instant foods\n",
       "4           5  marinades meat preparation\n",
       "..        ...                         ...\n",
       "129       130    hot cereal pancake mixes\n",
       "130       131                   dry pasta\n",
       "131       132                      beauty\n",
       "132       133  muscles joints pain relief\n",
       "133       134  specialty wines champagnes\n",
       "\n",
       "[134 rows x 2 columns]"
      ]
     },
     "metadata": {},
     "output_type": "display_data"
    }
   ],
   "source": [
    "aisles = pd.read_csv('/datasets/aisles.csv', sep= \";\")\n",
    "aisles.info()\n",
    "display(aisles)"
   ]
  },
  {
   "cell_type": "code",
   "execution_count": 5,
   "id": "59e2090f",
   "metadata": {},
   "outputs": [
    {
     "name": "stdout",
     "output_type": "stream",
     "text": [
      "<class 'pandas.core.frame.DataFrame'>\n",
      "RangeIndex: 21 entries, 0 to 20\n",
      "Data columns (total 2 columns):\n",
      " #   Column         Non-Null Count  Dtype \n",
      "---  ------         --------------  ----- \n",
      " 0   department_id  21 non-null     int64 \n",
      " 1   department     21 non-null     object\n",
      "dtypes: int64(1), object(1)\n",
      "memory usage: 464.0+ bytes\n"
     ]
    },
    {
     "data": {
      "text/html": [
       "<div>\n",
       "<style scoped>\n",
       "    .dataframe tbody tr th:only-of-type {\n",
       "        vertical-align: middle;\n",
       "    }\n",
       "\n",
       "    .dataframe tbody tr th {\n",
       "        vertical-align: top;\n",
       "    }\n",
       "\n",
       "    .dataframe thead th {\n",
       "        text-align: right;\n",
       "    }\n",
       "</style>\n",
       "<table border=\"1\" class=\"dataframe\">\n",
       "  <thead>\n",
       "    <tr style=\"text-align: right;\">\n",
       "      <th></th>\n",
       "      <th>department_id</th>\n",
       "      <th>department</th>\n",
       "    </tr>\n",
       "  </thead>\n",
       "  <tbody>\n",
       "    <tr>\n",
       "      <th>0</th>\n",
       "      <td>1</td>\n",
       "      <td>frozen</td>\n",
       "    </tr>\n",
       "    <tr>\n",
       "      <th>1</th>\n",
       "      <td>2</td>\n",
       "      <td>other</td>\n",
       "    </tr>\n",
       "    <tr>\n",
       "      <th>2</th>\n",
       "      <td>3</td>\n",
       "      <td>bakery</td>\n",
       "    </tr>\n",
       "    <tr>\n",
       "      <th>3</th>\n",
       "      <td>4</td>\n",
       "      <td>produce</td>\n",
       "    </tr>\n",
       "    <tr>\n",
       "      <th>4</th>\n",
       "      <td>5</td>\n",
       "      <td>alcohol</td>\n",
       "    </tr>\n",
       "    <tr>\n",
       "      <th>5</th>\n",
       "      <td>6</td>\n",
       "      <td>international</td>\n",
       "    </tr>\n",
       "    <tr>\n",
       "      <th>6</th>\n",
       "      <td>7</td>\n",
       "      <td>beverages</td>\n",
       "    </tr>\n",
       "    <tr>\n",
       "      <th>7</th>\n",
       "      <td>8</td>\n",
       "      <td>pets</td>\n",
       "    </tr>\n",
       "    <tr>\n",
       "      <th>8</th>\n",
       "      <td>9</td>\n",
       "      <td>dry goods pasta</td>\n",
       "    </tr>\n",
       "    <tr>\n",
       "      <th>9</th>\n",
       "      <td>10</td>\n",
       "      <td>bulk</td>\n",
       "    </tr>\n",
       "    <tr>\n",
       "      <th>10</th>\n",
       "      <td>11</td>\n",
       "      <td>personal care</td>\n",
       "    </tr>\n",
       "    <tr>\n",
       "      <th>11</th>\n",
       "      <td>12</td>\n",
       "      <td>meat seafood</td>\n",
       "    </tr>\n",
       "    <tr>\n",
       "      <th>12</th>\n",
       "      <td>13</td>\n",
       "      <td>pantry</td>\n",
       "    </tr>\n",
       "    <tr>\n",
       "      <th>13</th>\n",
       "      <td>14</td>\n",
       "      <td>breakfast</td>\n",
       "    </tr>\n",
       "    <tr>\n",
       "      <th>14</th>\n",
       "      <td>15</td>\n",
       "      <td>canned goods</td>\n",
       "    </tr>\n",
       "    <tr>\n",
       "      <th>15</th>\n",
       "      <td>16</td>\n",
       "      <td>dairy eggs</td>\n",
       "    </tr>\n",
       "    <tr>\n",
       "      <th>16</th>\n",
       "      <td>17</td>\n",
       "      <td>household</td>\n",
       "    </tr>\n",
       "    <tr>\n",
       "      <th>17</th>\n",
       "      <td>18</td>\n",
       "      <td>babies</td>\n",
       "    </tr>\n",
       "    <tr>\n",
       "      <th>18</th>\n",
       "      <td>19</td>\n",
       "      <td>snacks</td>\n",
       "    </tr>\n",
       "    <tr>\n",
       "      <th>19</th>\n",
       "      <td>20</td>\n",
       "      <td>deli</td>\n",
       "    </tr>\n",
       "    <tr>\n",
       "      <th>20</th>\n",
       "      <td>21</td>\n",
       "      <td>missing</td>\n",
       "    </tr>\n",
       "  </tbody>\n",
       "</table>\n",
       "</div>"
      ],
      "text/plain": [
       "    department_id       department\n",
       "0               1           frozen\n",
       "1               2            other\n",
       "2               3           bakery\n",
       "3               4          produce\n",
       "4               5          alcohol\n",
       "5               6    international\n",
       "6               7        beverages\n",
       "7               8             pets\n",
       "8               9  dry goods pasta\n",
       "9              10             bulk\n",
       "10             11    personal care\n",
       "11             12     meat seafood\n",
       "12             13           pantry\n",
       "13             14        breakfast\n",
       "14             15     canned goods\n",
       "15             16       dairy eggs\n",
       "16             17        household\n",
       "17             18           babies\n",
       "18             19           snacks\n",
       "19             20             deli\n",
       "20             21          missing"
      ]
     },
     "metadata": {},
     "output_type": "display_data"
    }
   ],
   "source": [
    "departments= pd.read_csv('/datasets/departments.csv', sep= \";\")\n",
    "departments.info()\n",
    "display(departments)"
   ]
  },
  {
   "cell_type": "code",
   "execution_count": 6,
   "id": "6fc81694",
   "metadata": {
    "scrolled": true
   },
   "outputs": [
    {
     "name": "stdout",
     "output_type": "stream",
     "text": [
      "<class 'pandas.core.frame.DataFrame'>\n",
      "RangeIndex: 4545007 entries, 0 to 4545006\n",
      "Data columns (total 4 columns):\n",
      " #   Column             Non-Null Count    Dtype  \n",
      "---  ------             --------------    -----  \n",
      " 0   order_id           4545007 non-null  int64  \n",
      " 1   product_id         4545007 non-null  int64  \n",
      " 2   add_to_cart_order  4544171 non-null  float64\n",
      " 3   reordered          4545007 non-null  int64  \n",
      "dtypes: float64(1), int64(3)\n",
      "memory usage: 138.7 MB\n"
     ]
    },
    {
     "data": {
      "text/html": [
       "<div>\n",
       "<style scoped>\n",
       "    .dataframe tbody tr th:only-of-type {\n",
       "        vertical-align: middle;\n",
       "    }\n",
       "\n",
       "    .dataframe tbody tr th {\n",
       "        vertical-align: top;\n",
       "    }\n",
       "\n",
       "    .dataframe thead th {\n",
       "        text-align: right;\n",
       "    }\n",
       "</style>\n",
       "<table border=\"1\" class=\"dataframe\">\n",
       "  <thead>\n",
       "    <tr style=\"text-align: right;\">\n",
       "      <th></th>\n",
       "      <th>order_id</th>\n",
       "      <th>product_id</th>\n",
       "      <th>add_to_cart_order</th>\n",
       "      <th>reordered</th>\n",
       "    </tr>\n",
       "  </thead>\n",
       "  <tbody>\n",
       "    <tr>\n",
       "      <th>0</th>\n",
       "      <td>2141543</td>\n",
       "      <td>11440</td>\n",
       "      <td>17.0</td>\n",
       "      <td>0</td>\n",
       "    </tr>\n",
       "    <tr>\n",
       "      <th>1</th>\n",
       "      <td>567889</td>\n",
       "      <td>1560</td>\n",
       "      <td>1.0</td>\n",
       "      <td>1</td>\n",
       "    </tr>\n",
       "    <tr>\n",
       "      <th>2</th>\n",
       "      <td>2261212</td>\n",
       "      <td>26683</td>\n",
       "      <td>1.0</td>\n",
       "      <td>1</td>\n",
       "    </tr>\n",
       "    <tr>\n",
       "      <th>3</th>\n",
       "      <td>491251</td>\n",
       "      <td>8670</td>\n",
       "      <td>35.0</td>\n",
       "      <td>1</td>\n",
       "    </tr>\n",
       "    <tr>\n",
       "      <th>4</th>\n",
       "      <td>2571142</td>\n",
       "      <td>1940</td>\n",
       "      <td>5.0</td>\n",
       "      <td>1</td>\n",
       "    </tr>\n",
       "    <tr>\n",
       "      <th>...</th>\n",
       "      <td>...</td>\n",
       "      <td>...</td>\n",
       "      <td>...</td>\n",
       "      <td>...</td>\n",
       "    </tr>\n",
       "    <tr>\n",
       "      <th>4545002</th>\n",
       "      <td>577211</td>\n",
       "      <td>15290</td>\n",
       "      <td>12.0</td>\n",
       "      <td>1</td>\n",
       "    </tr>\n",
       "    <tr>\n",
       "      <th>4545003</th>\n",
       "      <td>1219554</td>\n",
       "      <td>21914</td>\n",
       "      <td>9.0</td>\n",
       "      <td>0</td>\n",
       "    </tr>\n",
       "    <tr>\n",
       "      <th>4545004</th>\n",
       "      <td>692640</td>\n",
       "      <td>47766</td>\n",
       "      <td>4.0</td>\n",
       "      <td>1</td>\n",
       "    </tr>\n",
       "    <tr>\n",
       "      <th>4545005</th>\n",
       "      <td>319435</td>\n",
       "      <td>691</td>\n",
       "      <td>8.0</td>\n",
       "      <td>1</td>\n",
       "    </tr>\n",
       "    <tr>\n",
       "      <th>4545006</th>\n",
       "      <td>1398151</td>\n",
       "      <td>28733</td>\n",
       "      <td>9.0</td>\n",
       "      <td>0</td>\n",
       "    </tr>\n",
       "  </tbody>\n",
       "</table>\n",
       "<p>4545007 rows × 4 columns</p>\n",
       "</div>"
      ],
      "text/plain": [
       "         order_id  product_id  add_to_cart_order  reordered\n",
       "0         2141543       11440               17.0          0\n",
       "1          567889        1560                1.0          1\n",
       "2         2261212       26683                1.0          1\n",
       "3          491251        8670               35.0          1\n",
       "4         2571142        1940                5.0          1\n",
       "...           ...         ...                ...        ...\n",
       "4545002    577211       15290               12.0          1\n",
       "4545003   1219554       21914                9.0          0\n",
       "4545004    692640       47766                4.0          1\n",
       "4545005    319435         691                8.0          1\n",
       "4545006   1398151       28733                9.0          0\n",
       "\n",
       "[4545007 rows x 4 columns]"
      ]
     },
     "metadata": {},
     "output_type": "display_data"
    }
   ],
   "source": [
    "order_products = pd.read_csv('/datasets/order_products.csv', sep= \";\")\n",
    "order_products.info(show_counts=True)\n",
    "display(order_products)"
   ]
  },
  {
   "attachments": {},
   "cell_type": "markdown",
   "id": "5d521a9c",
   "metadata": {},
   "source": [
    "## Find and remove duplicate values"
   ]
  },
  {
   "cell_type": "code",
   "execution_count": 7,
   "id": "0d97422d",
   "metadata": {},
   "outputs": [
    {
     "name": "stdout",
     "output_type": "stream",
     "text": [
      "Number of duplicates: 15\n"
     ]
    }
   ],
   "source": [
    "# Check for duplicated orders\n",
    "print(\"Number of duplicates:\", orders.duplicated().sum())"
   ]
  },
  {
   "cell_type": "code",
   "execution_count": 8,
   "id": "b6a698a2",
   "metadata": {},
   "outputs": [
    {
     "data": {
      "text/html": [
       "<div>\n",
       "<style scoped>\n",
       "    .dataframe tbody tr th:only-of-type {\n",
       "        vertical-align: middle;\n",
       "    }\n",
       "\n",
       "    .dataframe tbody tr th {\n",
       "        vertical-align: top;\n",
       "    }\n",
       "\n",
       "    .dataframe thead th {\n",
       "        text-align: right;\n",
       "    }\n",
       "</style>\n",
       "<table border=\"1\" class=\"dataframe\">\n",
       "  <thead>\n",
       "    <tr style=\"text-align: right;\">\n",
       "      <th></th>\n",
       "      <th>order_id</th>\n",
       "      <th>user_id</th>\n",
       "      <th>order_number</th>\n",
       "      <th>order_dow</th>\n",
       "      <th>order_hour_of_day</th>\n",
       "      <th>days_since_prior_order</th>\n",
       "      <th>order_hour</th>\n",
       "    </tr>\n",
       "  </thead>\n",
       "  <tbody>\n",
       "    <tr>\n",
       "      <th>4838</th>\n",
       "      <td>2766110</td>\n",
       "      <td>162084</td>\n",
       "      <td>41</td>\n",
       "      <td>3</td>\n",
       "      <td>2</td>\n",
       "      <td>16.0</td>\n",
       "      <td>1900-01-01 02:00:00</td>\n",
       "    </tr>\n",
       "    <tr>\n",
       "      <th>5156</th>\n",
       "      <td>2190225</td>\n",
       "      <td>138285</td>\n",
       "      <td>18</td>\n",
       "      <td>3</td>\n",
       "      <td>2</td>\n",
       "      <td>11.0</td>\n",
       "      <td>1900-01-01 02:00:00</td>\n",
       "    </tr>\n",
       "    <tr>\n",
       "      <th>15506</th>\n",
       "      <td>553049</td>\n",
       "      <td>58599</td>\n",
       "      <td>13</td>\n",
       "      <td>3</td>\n",
       "      <td>2</td>\n",
       "      <td>7.0</td>\n",
       "      <td>1900-01-01 02:00:00</td>\n",
       "    </tr>\n",
       "    <tr>\n",
       "      <th>18420</th>\n",
       "      <td>382357</td>\n",
       "      <td>120200</td>\n",
       "      <td>19</td>\n",
       "      <td>3</td>\n",
       "      <td>2</td>\n",
       "      <td>11.0</td>\n",
       "      <td>1900-01-01 02:00:00</td>\n",
       "    </tr>\n",
       "    <tr>\n",
       "      <th>24691</th>\n",
       "      <td>690242</td>\n",
       "      <td>77357</td>\n",
       "      <td>2</td>\n",
       "      <td>3</td>\n",
       "      <td>2</td>\n",
       "      <td>9.0</td>\n",
       "      <td>1900-01-01 02:00:00</td>\n",
       "    </tr>\n",
       "    <tr>\n",
       "      <th>...</th>\n",
       "      <td>...</td>\n",
       "      <td>...</td>\n",
       "      <td>...</td>\n",
       "      <td>...</td>\n",
       "      <td>...</td>\n",
       "      <td>...</td>\n",
       "      <td>...</td>\n",
       "    </tr>\n",
       "    <tr>\n",
       "      <th>457013</th>\n",
       "      <td>3384021</td>\n",
       "      <td>14881</td>\n",
       "      <td>6</td>\n",
       "      <td>3</td>\n",
       "      <td>2</td>\n",
       "      <td>30.0</td>\n",
       "      <td>1900-01-01 02:00:00</td>\n",
       "    </tr>\n",
       "    <tr>\n",
       "      <th>458816</th>\n",
       "      <td>910166</td>\n",
       "      <td>164782</td>\n",
       "      <td>18</td>\n",
       "      <td>3</td>\n",
       "      <td>2</td>\n",
       "      <td>4.0</td>\n",
       "      <td>1900-01-01 02:00:00</td>\n",
       "    </tr>\n",
       "    <tr>\n",
       "      <th>459635</th>\n",
       "      <td>1680532</td>\n",
       "      <td>106435</td>\n",
       "      <td>6</td>\n",
       "      <td>3</td>\n",
       "      <td>2</td>\n",
       "      <td>21.0</td>\n",
       "      <td>1900-01-01 02:00:00</td>\n",
       "    </tr>\n",
       "    <tr>\n",
       "      <th>468324</th>\n",
       "      <td>222962</td>\n",
       "      <td>54979</td>\n",
       "      <td>59</td>\n",
       "      <td>3</td>\n",
       "      <td>2</td>\n",
       "      <td>3.0</td>\n",
       "      <td>1900-01-01 02:00:00</td>\n",
       "    </tr>\n",
       "    <tr>\n",
       "      <th>477526</th>\n",
       "      <td>2592344</td>\n",
       "      <td>46860</td>\n",
       "      <td>38</td>\n",
       "      <td>3</td>\n",
       "      <td>2</td>\n",
       "      <td>3.0</td>\n",
       "      <td>1900-01-01 02:00:00</td>\n",
       "    </tr>\n",
       "  </tbody>\n",
       "</table>\n",
       "<p>121 rows × 7 columns</p>\n",
       "</div>"
      ],
      "text/plain": [
       "        order_id  user_id  order_number  order_dow  order_hour_of_day  \\\n",
       "4838     2766110   162084            41          3                  2   \n",
       "5156     2190225   138285            18          3                  2   \n",
       "15506     553049    58599            13          3                  2   \n",
       "18420     382357   120200            19          3                  2   \n",
       "24691     690242    77357             2          3                  2   \n",
       "...          ...      ...           ...        ...                ...   \n",
       "457013   3384021    14881             6          3                  2   \n",
       "458816    910166   164782            18          3                  2   \n",
       "459635   1680532   106435             6          3                  2   \n",
       "468324    222962    54979            59          3                  2   \n",
       "477526   2592344    46860            38          3                  2   \n",
       "\n",
       "        days_since_prior_order          order_hour  \n",
       "4838                      16.0 1900-01-01 02:00:00  \n",
       "5156                      11.0 1900-01-01 02:00:00  \n",
       "15506                      7.0 1900-01-01 02:00:00  \n",
       "18420                     11.0 1900-01-01 02:00:00  \n",
       "24691                      9.0 1900-01-01 02:00:00  \n",
       "...                        ...                 ...  \n",
       "457013                    30.0 1900-01-01 02:00:00  \n",
       "458816                     4.0 1900-01-01 02:00:00  \n",
       "459635                    21.0 1900-01-01 02:00:00  \n",
       "468324                     3.0 1900-01-01 02:00:00  \n",
       "477526                     3.0 1900-01-01 02:00:00  \n",
       "\n",
       "[121 rows x 7 columns]"
      ]
     },
     "metadata": {},
     "output_type": "display_data"
    }
   ],
   "source": [
    "# Check for all orders placed Wednesday at 2:00 AM\n",
    "wednesday_2am = orders[(orders['order_dow'] == 3) & (orders['order_hour_of_day'] == 2)]\n",
    "display(wednesday_2am)\n"
   ]
  },
  {
   "cell_type": "code",
   "execution_count": 9,
   "id": "480563c7",
   "metadata": {},
   "outputs": [
    {
     "data": {
      "text/html": [
       "<div>\n",
       "<style scoped>\n",
       "    .dataframe tbody tr th:only-of-type {\n",
       "        vertical-align: middle;\n",
       "    }\n",
       "\n",
       "    .dataframe tbody tr th {\n",
       "        vertical-align: top;\n",
       "    }\n",
       "\n",
       "    .dataframe thead th {\n",
       "        text-align: right;\n",
       "    }\n",
       "</style>\n",
       "<table border=\"1\" class=\"dataframe\">\n",
       "  <thead>\n",
       "    <tr style=\"text-align: right;\">\n",
       "      <th></th>\n",
       "      <th>order_id</th>\n",
       "      <th>user_id</th>\n",
       "      <th>order_number</th>\n",
       "      <th>order_dow</th>\n",
       "      <th>order_hour_of_day</th>\n",
       "      <th>days_since_prior_order</th>\n",
       "      <th>order_hour</th>\n",
       "    </tr>\n",
       "  </thead>\n",
       "  <tbody>\n",
       "    <tr>\n",
       "      <th>0</th>\n",
       "      <td>1515936</td>\n",
       "      <td>183418</td>\n",
       "      <td>11</td>\n",
       "      <td>6</td>\n",
       "      <td>13</td>\n",
       "      <td>30.0</td>\n",
       "      <td>1900-01-01 13:00:00</td>\n",
       "    </tr>\n",
       "    <tr>\n",
       "      <th>1</th>\n",
       "      <td>1690866</td>\n",
       "      <td>163593</td>\n",
       "      <td>5</td>\n",
       "      <td>5</td>\n",
       "      <td>12</td>\n",
       "      <td>9.0</td>\n",
       "      <td>1900-01-01 12:00:00</td>\n",
       "    </tr>\n",
       "    <tr>\n",
       "      <th>2</th>\n",
       "      <td>1454967</td>\n",
       "      <td>39980</td>\n",
       "      <td>4</td>\n",
       "      <td>5</td>\n",
       "      <td>19</td>\n",
       "      <td>2.0</td>\n",
       "      <td>1900-01-01 19:00:00</td>\n",
       "    </tr>\n",
       "    <tr>\n",
       "      <th>3</th>\n",
       "      <td>1768857</td>\n",
       "      <td>82516</td>\n",
       "      <td>56</td>\n",
       "      <td>0</td>\n",
       "      <td>20</td>\n",
       "      <td>10.0</td>\n",
       "      <td>1900-01-01 20:00:00</td>\n",
       "    </tr>\n",
       "    <tr>\n",
       "      <th>4</th>\n",
       "      <td>3007858</td>\n",
       "      <td>196724</td>\n",
       "      <td>2</td>\n",
       "      <td>4</td>\n",
       "      <td>12</td>\n",
       "      <td>17.0</td>\n",
       "      <td>1900-01-01 12:00:00</td>\n",
       "    </tr>\n",
       "    <tr>\n",
       "      <th>...</th>\n",
       "      <td>...</td>\n",
       "      <td>...</td>\n",
       "      <td>...</td>\n",
       "      <td>...</td>\n",
       "      <td>...</td>\n",
       "      <td>...</td>\n",
       "      <td>...</td>\n",
       "    </tr>\n",
       "    <tr>\n",
       "      <th>478962</th>\n",
       "      <td>3210681</td>\n",
       "      <td>5617</td>\n",
       "      <td>5</td>\n",
       "      <td>1</td>\n",
       "      <td>14</td>\n",
       "      <td>7.0</td>\n",
       "      <td>1900-01-01 14:00:00</td>\n",
       "    </tr>\n",
       "    <tr>\n",
       "      <th>478963</th>\n",
       "      <td>3270802</td>\n",
       "      <td>112087</td>\n",
       "      <td>2</td>\n",
       "      <td>3</td>\n",
       "      <td>13</td>\n",
       "      <td>6.0</td>\n",
       "      <td>1900-01-01 13:00:00</td>\n",
       "    </tr>\n",
       "    <tr>\n",
       "      <th>478964</th>\n",
       "      <td>885349</td>\n",
       "      <td>82944</td>\n",
       "      <td>16</td>\n",
       "      <td>2</td>\n",
       "      <td>11</td>\n",
       "      <td>6.0</td>\n",
       "      <td>1900-01-01 11:00:00</td>\n",
       "    </tr>\n",
       "    <tr>\n",
       "      <th>478965</th>\n",
       "      <td>216274</td>\n",
       "      <td>4391</td>\n",
       "      <td>3</td>\n",
       "      <td>3</td>\n",
       "      <td>8</td>\n",
       "      <td>8.0</td>\n",
       "      <td>1900-01-01 08:00:00</td>\n",
       "    </tr>\n",
       "    <tr>\n",
       "      <th>478966</th>\n",
       "      <td>2071924</td>\n",
       "      <td>1730</td>\n",
       "      <td>18</td>\n",
       "      <td>1</td>\n",
       "      <td>14</td>\n",
       "      <td>15.0</td>\n",
       "      <td>1900-01-01 14:00:00</td>\n",
       "    </tr>\n",
       "  </tbody>\n",
       "</table>\n",
       "<p>478952 rows × 7 columns</p>\n",
       "</div>"
      ],
      "text/plain": [
       "        order_id  user_id  order_number  order_dow  order_hour_of_day  \\\n",
       "0        1515936   183418            11          6                 13   \n",
       "1        1690866   163593             5          5                 12   \n",
       "2        1454967    39980             4          5                 19   \n",
       "3        1768857    82516            56          0                 20   \n",
       "4        3007858   196724             2          4                 12   \n",
       "...          ...      ...           ...        ...                ...   \n",
       "478962   3210681     5617             5          1                 14   \n",
       "478963   3270802   112087             2          3                 13   \n",
       "478964    885349    82944            16          2                 11   \n",
       "478965    216274     4391             3          3                  8   \n",
       "478966   2071924     1730            18          1                 14   \n",
       "\n",
       "        days_since_prior_order          order_hour  \n",
       "0                         30.0 1900-01-01 13:00:00  \n",
       "1                          9.0 1900-01-01 12:00:00  \n",
       "2                          2.0 1900-01-01 19:00:00  \n",
       "3                         10.0 1900-01-01 20:00:00  \n",
       "4                         17.0 1900-01-01 12:00:00  \n",
       "...                        ...                 ...  \n",
       "478962                     7.0 1900-01-01 14:00:00  \n",
       "478963                     6.0 1900-01-01 13:00:00  \n",
       "478964                     6.0 1900-01-01 11:00:00  \n",
       "478965                     8.0 1900-01-01 08:00:00  \n",
       "478966                    15.0 1900-01-01 14:00:00  \n",
       "\n",
       "[478952 rows x 7 columns]"
      ]
     },
     "execution_count": 9,
     "metadata": {},
     "output_type": "execute_result"
    }
   ],
   "source": [
    "# Remove duplicate orders\n",
    "orders.drop_duplicates(subset=['order_id'])"
   ]
  },
  {
   "cell_type": "code",
   "execution_count": 10,
   "id": "0b2396a2",
   "metadata": {},
   "outputs": [
    {
     "name": "stdout",
     "output_type": "stream",
     "text": [
      "Number of duplicates after: 15\n"
     ]
    }
   ],
   "source": [
    "# Double check for duplicate rows after removing duplicates\n",
    "print(\"Number of duplicates after:\", orders.duplicated().sum())"
   ]
  },
  {
   "cell_type": "code",
   "execution_count": 11,
   "id": "f6113ef1",
   "metadata": {},
   "outputs": [
    {
     "name": "stdout",
     "output_type": "stream",
     "text": [
      "Number of duplicate order IDs after: 0\n"
     ]
    }
   ],
   "source": [
    "# Drop duplicates with subset order_id\n",
    "orders = orders.drop_duplicates(subset=['order_id'])\n",
    "# Check for duplicate order IDs again\n",
    "print(\"Number of duplicate order IDs after:\", orders.duplicated(subset=['order_id']).sum())"
   ]
  },
  {
   "cell_type": "markdown",
   "id": "45e6bc46",
   "metadata": {},
   "source": [
    "### `products` data frame"
   ]
  },
  {
   "cell_type": "code",
   "execution_count": 12,
   "id": "5f526b5b-8175-46fa-a0fd-441767d50e64",
   "metadata": {},
   "outputs": [
    {
     "name": "stdout",
     "output_type": "stream",
     "text": [
      "Number of product rows duplicated: 0\n"
     ]
    }
   ],
   "source": [
    "# Check for fully duplicate rows\n",
    "duplicates = products.duplicated()\n",
    "print(\"Number of product rows duplicated:\", duplicates.sum())"
   ]
  },
  {
   "cell_type": "code",
   "execution_count": 13,
   "id": "88daa4f4",
   "metadata": {
    "scrolled": true
   },
   "outputs": [
    {
     "name": "stdout",
     "output_type": "stream",
     "text": [
      "0        False\n",
      "1        False\n",
      "2        False\n",
      "3        False\n",
      "4        False\n",
      "         ...  \n",
      "49689    False\n",
      "49690    False\n",
      "49691    False\n",
      "49692    False\n",
      "49693    False\n",
      "Length: 49694, dtype: bool\n",
      "Number of duplicates: 0\n"
     ]
    }
   ],
   "source": [
    "# Check for just duplicate product IDs\n",
    "duplicates = products.duplicated(subset='product_id')\n",
    "print(duplicates)\n",
    "print(\"Number of duplicates:\", duplicates.sum()) "
   ]
  },
  {
   "cell_type": "markdown",
   "id": "6919a084",
   "metadata": {},
   "source": [
    "No duplicates are found but better to take a look at the IDs with case difference."
   ]
  },
  {
   "cell_type": "code",
   "execution_count": 14,
   "id": "c773f0bf",
   "metadata": {},
   "outputs": [
    {
     "name": "stdout",
     "output_type": "stream",
     "text": [
      "0        False\n",
      "1        False\n",
      "2        False\n",
      "3        False\n",
      "4        False\n",
      "         ...  \n",
      "49689     True\n",
      "49690     True\n",
      "49691     True\n",
      "49692     True\n",
      "49693     True\n",
      "Length: 49694, dtype: bool\n",
      "Number of duplicates: 0        False\n",
      "1        False\n",
      "2        False\n",
      "3        False\n",
      "4        False\n",
      "         ...  \n",
      "49689     True\n",
      "49690     True\n",
      "49691     True\n",
      "49692     True\n",
      "49693     True\n",
      "Length: 49694, dtype: bool\n"
     ]
    }
   ],
   "source": [
    "products['product_name'] = products['product_name'].str.lower() # Convert values to lowercase\n",
    "duplicates_products = products.duplicated(subset='product_name') # Check for duplicate values in the subset\n",
    "print(duplicates_products)\n",
    "print(\"Number of duplicates:\", duplicates_products) "
   ]
  },
  {
   "cell_type": "markdown",
   "id": "9f569434",
   "metadata": {},
   "source": [
    "Check for only duplicate product names by converting names to lowercase.\n",
    "Duplicates were found using the subset product_name after converting to lowercase, and was most likely a data entry errors."
   ]
  },
  {
   "cell_type": "code",
   "execution_count": 15,
   "id": "01efd02e",
   "metadata": {
    "scrolled": true
   },
   "outputs": [
    {
     "name": "stdout",
     "output_type": "stream",
     "text": [
      "Number of duplicate product names: 1361\n",
      "Duplicate product names: [nan 'biotin 1000 mcg' 'green tea with ginseng and honey'\n",
      " 'cream of mushroom soup' 'cinnamon rolls with icing'\n",
      " 'american cheese slices' 'cauliflower head' 'pumpkin spice'\n",
      " 'hearts of palm' 'cream of tartar' 'lasagna with meat sauce'\n",
      " 'vitamin d3 2000 iu' 'dulce de leche caramel ice cream'\n",
      " 'balsamic vinegar of modena' 'diced peeled tomatoes in tomato juice'\n",
      " 'fresh scent dishwasher detergent with dawn' 'half and half'\n",
      " 'aged balsamic vinegar of modena' 'matzo ball mix'\n",
      " 'chipotle peppers in adobo sauce' 'beef ravioli in tomato & meat sauce'\n",
      " 'coconut juice with pulp' 'solid white albacore tuna in water'\n",
      " 'tomato and basil pasta sauce' 'albacore solid white tuna in water'\n",
      " 'premium lubricant condoms enz' 'ultragel personal lubricant'\n",
      " 'rigatoni with chicken & pesto' 'nutrition protein mix blueberry nut'\n",
      " 'candy bar' 'beef chili with beans'\n",
      " \"potatoes o'brien with onions and peppers\" 'muenster cheese slices'\n",
      " 'chopped garlic in water' 'maraschino cherries with stems'\n",
      " 'sea salt caramel ice cream' 'edamame soybeans in pods'\n",
      " 'chunk light tuna in vegetable oil' 'chicken with rice soup'\n",
      " \"tender white meat chicken- vegetables & rice in a cheddar cheese sauce grandma's chicken & vegetable rice bake\"\n",
      " '18-in-1 hemp peppermint pure-castile soap'\n",
      " 'concentrace trace mineral drops' 'oil of oregano dietary supplement'\n",
      " 'gluten free spaghetti'\n",
      " 'gentle and predictable overnight relief laxative tablets'\n",
      " 'original chili con carne with beans'\n",
      " 'solid white albacore tuna in spring water'\n",
      " 'mozzarella sticks with marinara sauce' 'mediterranean sea salt'\n",
      " 'powerball max in 1 shine & protect' 'glass cleaner with ammonia'\n",
      " 'flat fillets of anchovies in pure olive oil'\n",
      " 'pineapple slices in heavy syrup' 'chili with beans'\n",
      " 'top the tater chive & onion sour cream'\n",
      " 'yams cut sweet potatoes in syrup' 'herring in wine sauce'\n",
      " 'original potato chips' 'cream of celery condensed soup'\n",
      " 'chicken in a biskit baked snack crackers'\n",
      " 'wild sardines in spring water' 'macaroni and cheese' 'salsa medium'\n",
      " 'drinking water' 'apricot energy bar' 'mandarin oranges in light syrup'\n",
      " 'carrot and celery sticks' 'family size lasagna with meat & sauce'\n",
      " 'fruit cocktail in heavy syrup'\n",
      " 'proactive health indoor weight & hairball care with chicken cat food'\n",
      " 'tomato juice from concentrate' 'hydro body sponge with hand strap'\n",
      " 'bbq sauce' 'protein plus vanilla bean protein shake'\n",
      " 'original bbq sauce' 'blanc de noirs' 'ibuprofen tablets 200 mg'\n",
      " 'lavender & chamomile baby powder' 'dark chocolate with almonds'\n",
      " 'organic balsamic vinegar of modena' 'bleu cheese salad dressing and dip'\n",
      " 'chunk light tuna in water' 'leave-in conditioner' 'bag of oranges'\n",
      " 'cosmic brownies with chocolate chip candy' 'megaflora probiotic'\n",
      " 'mountain berry blast sports drink' \"cookies 'n cream ice cream\"\n",
      " 'fire roasted diced tomatoes with garlic'\n",
      " 'pineapple slices in 100% pineapple juice'\n",
      " 'skinless & boneless sardines in olive oil'\n",
      " 'spreadable butter with canola oil' 'crushed tomatoes with basil'\n",
      " 'vitamin d3 1000 iu' 'bag of organic lemons'\n",
      " 'sour cream and onion potato chips' 'vitamin d3 5000 iu'\n",
      " 'anchovy fillets in olive oil' 'fluffly vanilla marshmallow frosting'\n",
      " 'high performance energy drink' 'original pancake & waffle mix'\n",
      " 'organic instant oatmeal light maple brown sugar'\n",
      " 'spring water body wash' 'burrito- steak & cheese']\n"
     ]
    }
   ],
   "source": [
    "# Check for duplicate product names that aren't missing\n",
    "# Sum of duplicates \n",
    "# Print unique product names\n",
    "\n",
    "duplicates = products.duplicated(subset='product_name')\n",
    "num_duplicates = duplicates.sum()\n",
    "duplicate_names = products[duplicates]['product_name'].unique()\n",
    "print(\"Number of duplicate product names:\", num_duplicates)\n",
    "print(\"Duplicate product names:\", duplicate_names)"
   ]
  },
  {
   "cell_type": "markdown",
   "id": "b6372454",
   "metadata": {},
   "source": [
    "Removed duplicates as repeat values are unnessary and will skew data. Here is printed to see the duplicate product names which are not missing."
   ]
  },
  {
   "cell_type": "markdown",
   "id": "60f30db1",
   "metadata": {},
   "source": [
    "### `departments` data frame"
   ]
  },
  {
   "cell_type": "code",
   "execution_count": 16,
   "id": "fb410ad4-0fbf-4b80-bb09-23fdea79afe3",
   "metadata": {},
   "outputs": [
    {
     "name": "stdout",
     "output_type": "stream",
     "text": [
      "Number of duplicates: 0\n"
     ]
    }
   ],
   "source": [
    "print(\"Number of duplicates:\", departments.duplicated().sum())"
   ]
  },
  {
   "attachments": {},
   "cell_type": "markdown",
   "id": "0152160f",
   "metadata": {},
   "source": [
    "We found zero duplicates in the departments data frame."
   ]
  },
  {
   "cell_type": "markdown",
   "id": "889349c1",
   "metadata": {},
   "source": [
    "### `aisles` data frame"
   ]
  },
  {
   "cell_type": "code",
   "execution_count": 17,
   "id": "9da89fb9-4679-40f5-ad0d-c34df753a3f8",
   "metadata": {},
   "outputs": [
    {
     "name": "stdout",
     "output_type": "stream",
     "text": [
      "Number of duplicates: 0\n"
     ]
    }
   ],
   "source": [
    "print(\"Number of duplicates:\", aisles.duplicated().sum())"
   ]
  },
  {
   "attachments": {},
   "cell_type": "markdown",
   "id": "a4bce16f",
   "metadata": {},
   "source": [
    "We found zero duplicates in the aisles data frame."
   ]
  },
  {
   "cell_type": "markdown",
   "id": "274cd06a",
   "metadata": {},
   "source": [
    "### `order_products` data frame"
   ]
  },
  {
   "cell_type": "code",
   "execution_count": 18,
   "id": "52326689-84a8-4b8f-a881-7c68780f62c9",
   "metadata": {},
   "outputs": [
    {
     "name": "stdout",
     "output_type": "stream",
     "text": [
      "Number of duplicates: 1361\n"
     ]
    }
   ],
   "source": [
    "# Check for fullly duplicate rows\n",
    "order_products.duplicated()\n",
    "print(\"Number of duplicates:\", duplicates.sum())"
   ]
  },
  {
   "cell_type": "code",
   "execution_count": 19,
   "id": "7b861391",
   "metadata": {},
   "outputs": [
    {
     "name": "stdout",
     "output_type": "stream",
     "text": [
      "Number of duplicates: 0\n"
     ]
    }
   ],
   "source": [
    "# Double check for any other tricky duplicates\n",
    "duplicates = order_products.duplicated(subset=['order_id', 'product_id'])\n",
    "print(\"Number of duplicates:\", duplicates.sum())"
   ]
  },
  {
   "cell_type": "markdown",
   "id": "c5a731c1",
   "metadata": {},
   "source": [
    "Check for duplicated rows in order_products. To double check for any tricky duplicates make subsets for order_id and product_id, finding zero duplicates."
   ]
  },
  {
   "cell_type": "markdown",
   "id": "c0aebd78",
   "metadata": {},
   "source": [
    "### `products` data frame"
   ]
  },
  {
   "cell_type": "code",
   "execution_count": 20,
   "id": "fe4a8b0f",
   "metadata": {
    "scrolled": true
   },
   "outputs": [
    {
     "name": "stdout",
     "output_type": "stream",
     "text": [
      "product_id          0\n",
      "product_name     1258\n",
      "aisle_id            0\n",
      "department_id       0\n",
      "dtype: int64\n",
      "    product_id                                       product_name  aisle_id  \\\n",
      "0            1                         chocolate sandwich cookies        61   \n",
      "1            2                                   all-seasons salt       104   \n",
      "2            3               robust golden unsweetened oolong tea        94   \n",
      "3            4  smart ones classic favorites mini rigatoni wit...        38   \n",
      "4            5                          green chile anytime sauce         5   \n",
      "5            6                                       dry nose oil        11   \n",
      "6            7                     pure coconut water with orange        98   \n",
      "7            8                  cut russet potatoes steam n' mash       116   \n",
      "8            9                  light strawberry blueberry yogurt       120   \n",
      "9           10     sparkling orange juice & prickly pear beverage       115   \n",
      "10          11                                  peach mango juice        31   \n",
      "11          12                         chocolate fudge layer cake       119   \n",
      "12          13                                  saline nasal mist        11   \n",
      "13          14                     fresh scent dishwasher cleaner        74   \n",
      "14          15                           overnight diapers size 6        56   \n",
      "15          16                      mint chocolate flavored syrup       103   \n",
      "16          17                                  rendered duck fat        35   \n",
      "17          18                pizza for one suprema  frozen pizza        79   \n",
      "18          19   gluten free quinoa three cheese & mushroom blend        63   \n",
      "19          20     pomegranate cranberry & aloe vera enrich drink        98   \n",
      "20          21                   small & medium dental dog treats        40   \n",
      "21          22                  fresh breath oral rinse mild mint        20   \n",
      "22          23                             organic turkey burgers        49   \n",
      "23          24  tri-vi-sol® vitamins a-c-and d supplement drop...        47   \n",
      "24          25            salted caramel lean protein & fiber bar         3   \n",
      "25          26        fancy feast trout feast flaked wet cat food        41   \n",
      "26          27  complete spring water foaming antibacterial ha...       127   \n",
      "27          28                                  wheat chex cereal       121   \n",
      "28          29  fresh cut golden sweet no salt added whole ker...        81   \n",
      "29          30         three cheese ziti- marinara with meatballs        38   \n",
      "30          31                                 white pearl onions       123   \n",
      "31          32                      nacho cheese white bean chips       107   \n",
      "32          33                      organic spaghetti style pasta       131   \n",
      "33          34                               peanut butter cereal       121   \n",
      "34          35     italian herb porcini mushrooms chicken sausage       106   \n",
      "35          36  traditional lasagna with meat sauce savory ita...        38   \n",
      "36          37                 noodle soup mix with chicken broth        69   \n",
      "37          38                                                NaN       100   \n",
      "38          39           daily tangerine citrus flavored beverage        64   \n",
      "39          40  beef hot links beef smoked sausage with chile ...       106   \n",
      "40          41        organic sourdough einkorn crackers rosemary        78   \n",
      "41          42                                    biotin 1000 mcg        47   \n",
      "42          43                                organic clementines       123   \n",
      "43          44                        sparkling raspberry seltzer       115   \n",
      "44          45                                  european cucumber        83   \n",
      "45          46                     raisin cinnamon bagels 5 count        58   \n",
      "46          47         onion flavor organic roasted seaweed snack        66   \n",
      "47          48                      school glue- washable- no run        87   \n",
      "48          49      vegetarian grain meat sausages italian - 4 ct        14   \n",
      "49          50                                 pumpkin muffin mix       105   \n",
      "\n",
      "    department_id  \n",
      "0              19  \n",
      "1              13  \n",
      "2               7  \n",
      "3               1  \n",
      "4              13  \n",
      "5              11  \n",
      "6               7  \n",
      "7               1  \n",
      "8              16  \n",
      "9               7  \n",
      "10              7  \n",
      "11              1  \n",
      "12             11  \n",
      "13             17  \n",
      "14             18  \n",
      "15             19  \n",
      "16             12  \n",
      "17              1  \n",
      "18              9  \n",
      "19              7  \n",
      "20              8  \n",
      "21             11  \n",
      "22             12  \n",
      "23             11  \n",
      "24             19  \n",
      "25              8  \n",
      "26             11  \n",
      "27             14  \n",
      "28             15  \n",
      "29              1  \n",
      "30              4  \n",
      "31             19  \n",
      "32              9  \n",
      "33             14  \n",
      "34             12  \n",
      "35              1  \n",
      "36             15  \n",
      "37             21  \n",
      "38              7  \n",
      "39             12  \n",
      "40             19  \n",
      "41             11  \n",
      "42              4  \n",
      "43              7  \n",
      "44              4  \n",
      "45              1  \n",
      "46              6  \n",
      "47             17  \n",
      "48             20  \n",
      "49             13  \n"
     ]
    }
   ],
   "source": [
    "print(products.isna().sum())\n",
    "print(products.head(50)) #Look at long list of printed values\n"
   ]
  },
  {
   "cell_type": "code",
   "execution_count": 61,
   "id": "e96167bc",
   "metadata": {},
   "outputs": [
    {
     "name": "stdout",
     "output_type": "stream",
     "text": [
      "Empty DataFrame\n",
      "Columns: [product_id, product_name, aisle_id, department_id, aisle_x, department_x, aisle_y, department_y]\n",
      "Index: []\n"
     ]
    }
   ],
   "source": [
    "# Are all of the missing product names associated with aisle ID 100?\n",
    "products = pd.merge(products, aisles, on='aisle_id')\n",
    "products = pd.merge(products, departments, on='department_id')\n",
    "\n",
    "missing_names = products.loc[products['product_name'].isna()]\n",
    "missing_names_aisle_100 = missing_names[missing_names['aisle_id'] == 100]\n",
    "print(missing_names_aisle_100)"
   ]
  },
  {
   "cell_type": "code",
   "execution_count": 62,
   "id": "8fd0a541",
   "metadata": {},
   "outputs": [
    {
     "name": "stdout",
     "output_type": "stream",
     "text": [
      "Empty DataFrame\n",
      "Columns: [product_id, product_name, aisle_id, department_id, aisle_x, department_x, aisle_y, department_y]\n",
      "Index: []\n"
     ]
    }
   ],
   "source": [
    "# Are all of the missing product names associated with department ID 21?\n",
    "missing_names = products.loc[products['product_name'].isna()]\n",
    "missing_names_dept_21 = missing_names[missing_names['department_id'] == 21]\n",
    "print(missing_names_dept_21)"
   ]
  },
  {
   "cell_type": "code",
   "execution_count": 23,
   "id": "325c3464",
   "metadata": {},
   "outputs": [
    {
     "name": "stdout",
     "output_type": "stream",
     "text": [
      "Aisle 100 is missing\n",
      "Department 21 is missing\n"
     ]
    }
   ],
   "source": [
    "# What is this aisle and department?\n",
    "aisle_100 = aisles[aisles['aisle_id'] == 100]['aisle'].values[0]\n",
    "department_21 = departments[departments['department_id'] == 21]['department'].values[0]\n",
    "print(\"Aisle 100 is\", aisle_100)\n",
    "print(\"Department 21 is\", department_21)\n"
   ]
  },
  {
   "cell_type": "markdown",
   "id": "7d94e5a5",
   "metadata": {},
   "source": [
    "Aisle 100 and Department 21 are missing by merging the products by aisle_id and department_id columns."
   ]
  },
  {
   "cell_type": "code",
   "execution_count": 24,
   "id": "6b295120",
   "metadata": {},
   "outputs": [],
   "source": [
    "# Fill missing product names with 'Unknown'\n",
    "products['product_name'] = products['product_name'].fillna('Unknown')\n"
   ]
  },
  {
   "cell_type": "markdown",
   "id": "ecef04e2",
   "metadata": {},
   "source": [
    "Filled missing values, NaN, in 'product_name' column, with the string, 'Unknown'"
   ]
  },
  {
   "cell_type": "markdown",
   "id": "7eb45c86",
   "metadata": {},
   "source": [
    "### `orders` data frame"
   ]
  },
  {
   "cell_type": "code",
   "execution_count": 25,
   "id": "93e41d96",
   "metadata": {},
   "outputs": [
    {
     "name": "stdout",
     "output_type": "stream",
     "text": [
      "order_id                      0\n",
      "user_id                       0\n",
      "order_number                  0\n",
      "order_dow                     0\n",
      "order_hour_of_day             0\n",
      "days_since_prior_order    28817\n",
      "order_hour                    0\n",
      "dtype: int64\n"
     ]
    }
   ],
   "source": [
    "nan_values = orders.isna().sum()\n",
    "print(nan_values)"
   ]
  },
  {
   "cell_type": "code",
   "execution_count": 26,
   "id": "166e5a86",
   "metadata": {},
   "outputs": [
    {
     "name": "stdout",
     "output_type": "stream",
     "text": [
      "Empty DataFrame\n",
      "Columns: [order_id, user_id, order_number, order_dow, order_hour_of_day, days_since_prior_order, order_hour]\n",
      "Index: []\n"
     ]
    }
   ],
   "source": [
    "# Are there any missing values where it's not a customer's first order?\n",
    "# Sort the orders DataFrame by customer ID and order date\n",
    "orders_sorted = orders.sort_values(['user_id', 'order_dow'])\n",
    "first_order = orders_sorted.duplicated(subset=['user_id'])\n",
    "missing_values = orders[(orders['days_since_prior_order'].isna()) & (orders['order_number'] != 1)]\n",
    "print(missing_values)"
   ]
  },
  {
   "cell_type": "markdown",
   "id": "69dc9ca4",
   "metadata": {},
   "source": [
    "### `order_products` data frame"
   ]
  },
  {
   "cell_type": "code",
   "execution_count": 28,
   "id": "b8240253",
   "metadata": {},
   "outputs": [
    {
     "data": {
      "text/html": [
       "<div>\n",
       "<style scoped>\n",
       "    .dataframe tbody tr th:only-of-type {\n",
       "        vertical-align: middle;\n",
       "    }\n",
       "\n",
       "    .dataframe tbody tr th {\n",
       "        vertical-align: top;\n",
       "    }\n",
       "\n",
       "    .dataframe thead th {\n",
       "        text-align: right;\n",
       "    }\n",
       "</style>\n",
       "<table border=\"1\" class=\"dataframe\">\n",
       "  <thead>\n",
       "    <tr style=\"text-align: right;\">\n",
       "      <th></th>\n",
       "      <th>order_id</th>\n",
       "      <th>product_id</th>\n",
       "      <th>add_to_cart_order</th>\n",
       "      <th>reordered</th>\n",
       "    </tr>\n",
       "  </thead>\n",
       "  <tbody>\n",
       "    <tr>\n",
       "      <th>0</th>\n",
       "      <td>2141543</td>\n",
       "      <td>11440</td>\n",
       "      <td>17.0</td>\n",
       "      <td>0</td>\n",
       "    </tr>\n",
       "    <tr>\n",
       "      <th>1</th>\n",
       "      <td>567889</td>\n",
       "      <td>1560</td>\n",
       "      <td>1.0</td>\n",
       "      <td>1</td>\n",
       "    </tr>\n",
       "    <tr>\n",
       "      <th>2</th>\n",
       "      <td>2261212</td>\n",
       "      <td>26683</td>\n",
       "      <td>1.0</td>\n",
       "      <td>1</td>\n",
       "    </tr>\n",
       "    <tr>\n",
       "      <th>3</th>\n",
       "      <td>491251</td>\n",
       "      <td>8670</td>\n",
       "      <td>35.0</td>\n",
       "      <td>1</td>\n",
       "    </tr>\n",
       "    <tr>\n",
       "      <th>4</th>\n",
       "      <td>2571142</td>\n",
       "      <td>1940</td>\n",
       "      <td>5.0</td>\n",
       "      <td>1</td>\n",
       "    </tr>\n",
       "    <tr>\n",
       "      <th>...</th>\n",
       "      <td>...</td>\n",
       "      <td>...</td>\n",
       "      <td>...</td>\n",
       "      <td>...</td>\n",
       "    </tr>\n",
       "    <tr>\n",
       "      <th>4545002</th>\n",
       "      <td>577211</td>\n",
       "      <td>15290</td>\n",
       "      <td>12.0</td>\n",
       "      <td>1</td>\n",
       "    </tr>\n",
       "    <tr>\n",
       "      <th>4545003</th>\n",
       "      <td>1219554</td>\n",
       "      <td>21914</td>\n",
       "      <td>9.0</td>\n",
       "      <td>0</td>\n",
       "    </tr>\n",
       "    <tr>\n",
       "      <th>4545004</th>\n",
       "      <td>692640</td>\n",
       "      <td>47766</td>\n",
       "      <td>4.0</td>\n",
       "      <td>1</td>\n",
       "    </tr>\n",
       "    <tr>\n",
       "      <th>4545005</th>\n",
       "      <td>319435</td>\n",
       "      <td>691</td>\n",
       "      <td>8.0</td>\n",
       "      <td>1</td>\n",
       "    </tr>\n",
       "    <tr>\n",
       "      <th>4545006</th>\n",
       "      <td>1398151</td>\n",
       "      <td>28733</td>\n",
       "      <td>9.0</td>\n",
       "      <td>0</td>\n",
       "    </tr>\n",
       "  </tbody>\n",
       "</table>\n",
       "<p>4545007 rows × 4 columns</p>\n",
       "</div>"
      ],
      "text/plain": [
       "         order_id  product_id  add_to_cart_order  reordered\n",
       "0         2141543       11440               17.0          0\n",
       "1          567889        1560                1.0          1\n",
       "2         2261212       26683                1.0          1\n",
       "3          491251        8670               35.0          1\n",
       "4         2571142        1940                5.0          1\n",
       "...           ...         ...                ...        ...\n",
       "4545002    577211       15290               12.0          1\n",
       "4545003   1219554       21914                9.0          0\n",
       "4545004    692640       47766                4.0          1\n",
       "4545005    319435         691                8.0          1\n",
       "4545006   1398151       28733                9.0          0\n",
       "\n",
       "[4545007 rows x 4 columns]"
      ]
     },
     "metadata": {},
     "output_type": "display_data"
    },
    {
     "data": {
      "text/html": [
       "<div>\n",
       "<style scoped>\n",
       "    .dataframe tbody tr th:only-of-type {\n",
       "        vertical-align: middle;\n",
       "    }\n",
       "\n",
       "    .dataframe tbody tr th {\n",
       "        vertical-align: top;\n",
       "    }\n",
       "\n",
       "    .dataframe thead th {\n",
       "        text-align: right;\n",
       "    }\n",
       "</style>\n",
       "<table border=\"1\" class=\"dataframe\">\n",
       "  <thead>\n",
       "    <tr style=\"text-align: right;\">\n",
       "      <th></th>\n",
       "      <th>order_id</th>\n",
       "      <th>product_id</th>\n",
       "      <th>add_to_cart_order</th>\n",
       "      <th>reordered</th>\n",
       "    </tr>\n",
       "  </thead>\n",
       "  <tbody>\n",
       "    <tr>\n",
       "      <th>737</th>\n",
       "      <td>2449164</td>\n",
       "      <td>5068</td>\n",
       "      <td>NaN</td>\n",
       "      <td>0</td>\n",
       "    </tr>\n",
       "    <tr>\n",
       "      <th>9926</th>\n",
       "      <td>1968313</td>\n",
       "      <td>43867</td>\n",
       "      <td>NaN</td>\n",
       "      <td>0</td>\n",
       "    </tr>\n",
       "    <tr>\n",
       "      <th>14394</th>\n",
       "      <td>2926893</td>\n",
       "      <td>11688</td>\n",
       "      <td>NaN</td>\n",
       "      <td>0</td>\n",
       "    </tr>\n",
       "    <tr>\n",
       "      <th>16418</th>\n",
       "      <td>1717990</td>\n",
       "      <td>4142</td>\n",
       "      <td>NaN</td>\n",
       "      <td>0</td>\n",
       "    </tr>\n",
       "    <tr>\n",
       "      <th>30114</th>\n",
       "      <td>1959075</td>\n",
       "      <td>42828</td>\n",
       "      <td>NaN</td>\n",
       "      <td>1</td>\n",
       "    </tr>\n",
       "    <tr>\n",
       "      <th>...</th>\n",
       "      <td>...</td>\n",
       "      <td>...</td>\n",
       "      <td>...</td>\n",
       "      <td>...</td>\n",
       "    </tr>\n",
       "    <tr>\n",
       "      <th>4505662</th>\n",
       "      <td>1800005</td>\n",
       "      <td>7411</td>\n",
       "      <td>NaN</td>\n",
       "      <td>0</td>\n",
       "    </tr>\n",
       "    <tr>\n",
       "      <th>4511400</th>\n",
       "      <td>1633337</td>\n",
       "      <td>260</td>\n",
       "      <td>NaN</td>\n",
       "      <td>0</td>\n",
       "    </tr>\n",
       "    <tr>\n",
       "      <th>4517562</th>\n",
       "      <td>404157</td>\n",
       "      <td>9517</td>\n",
       "      <td>NaN</td>\n",
       "      <td>0</td>\n",
       "    </tr>\n",
       "    <tr>\n",
       "      <th>4534112</th>\n",
       "      <td>1673227</td>\n",
       "      <td>17835</td>\n",
       "      <td>NaN</td>\n",
       "      <td>0</td>\n",
       "    </tr>\n",
       "    <tr>\n",
       "      <th>4535739</th>\n",
       "      <td>1832957</td>\n",
       "      <td>17949</td>\n",
       "      <td>NaN</td>\n",
       "      <td>1</td>\n",
       "    </tr>\n",
       "  </tbody>\n",
       "</table>\n",
       "<p>836 rows × 4 columns</p>\n",
       "</div>"
      ],
      "text/plain": [
       "         order_id  product_id  add_to_cart_order  reordered\n",
       "737       2449164        5068                NaN          0\n",
       "9926      1968313       43867                NaN          0\n",
       "14394     2926893       11688                NaN          0\n",
       "16418     1717990        4142                NaN          0\n",
       "30114     1959075       42828                NaN          1\n",
       "...           ...         ...                ...        ...\n",
       "4505662   1800005        7411                NaN          0\n",
       "4511400   1633337         260                NaN          0\n",
       "4517562    404157        9517                NaN          0\n",
       "4534112   1673227       17835                NaN          0\n",
       "4535739   1832957       17949                NaN          1\n",
       "\n",
       "[836 rows x 4 columns]"
      ]
     },
     "metadata": {},
     "output_type": "display_data"
    },
    {
     "name": "stdout",
     "output_type": "stream",
     "text": [
      "<class 'pandas.core.frame.DataFrame'>\n",
      "RangeIndex: 4545007 entries, 0 to 4545006\n",
      "Data columns (total 4 columns):\n",
      " #   Column             Non-Null Count    Dtype  \n",
      "---  ------             --------------    -----  \n",
      " 0   order_id           4545007 non-null  int64  \n",
      " 1   product_id         4545007 non-null  int64  \n",
      " 2   add_to_cart_order  4544171 non-null  float64\n",
      " 3   reordered          4545007 non-null  int64  \n",
      "dtypes: float64(1), int64(3)\n",
      "memory usage: 138.7 MB\n"
     ]
    }
   ],
   "source": [
    "display(order_products)\n",
    "missing_order_values = order_products[(order_products['add_to_cart_order'].isna())]\n",
    "display(missing_order_values)\n",
    "order_products.info(show_counts=True)"
   ]
  },
  {
   "cell_type": "code",
   "execution_count": 29,
   "id": "9a78e5ee",
   "metadata": {},
   "outputs": [
    {
     "name": "stdout",
     "output_type": "stream",
     "text": [
      "Minimun add to cart order value: 1.0\n",
      "Maximum add to cart order value: 64.0\n"
     ]
    }
   ],
   "source": [
    "# What are the min and max values in this column?\n",
    "print(\"Minimun add to cart order value:\", order_products['add_to_cart_order'].min())\n",
    "print(\"Maximum add to cart order value:\", order_products['add_to_cart_order'].max())\n"
   ]
  },
  {
   "cell_type": "markdown",
   "id": "dcf89e79",
   "metadata": {},
   "source": [
    "It appears there are missing values in the add_to_cart_order column. Missing values likely mean a user may have created an account but did not add any items to cart. By taking the min and max in that column, the range is from 1 to 64.  "
   ]
  },
  {
   "cell_type": "code",
   "execution_count": 30,
   "id": "ab9d0c2b",
   "metadata": {},
   "outputs": [
    {
     "name": "stdout",
     "output_type": "stream",
     "text": [
      "70\n"
     ]
    }
   ],
   "source": [
    "# Save all order IDs with at least one missing value in 'add_to_cart_order'\n",
    "orders_missing = order_products[order_products['add_to_cart_order'].isna()]['order_id'].unique() #Check orders with a missing value and then get a list of unique values \n",
    "print(len(orders_missing)) #Print length of missing values\n"
   ]
  },
  {
   "cell_type": "code",
   "execution_count": 31,
   "id": "54c31695",
   "metadata": {},
   "outputs": [
    {
     "name": "stdout",
     "output_type": "stream",
     "text": [
      "True\n"
     ]
    }
   ],
   "source": [
    "# Do all orders with missing values have more than 64 products?\n",
    "\n",
    "missing_orders = order_products[order_products['add_to_cart_order'].isna()]['order_id'].unique() #Find unique vlaues of missing orders\n",
    "result = all(order_products[order_products['order_id'].isin(missing_orders)].groupby('order_id').size() > 64) \n",
    "print(result)\n"
   ]
  },
  {
   "cell_type": "code",
   "execution_count": 32,
   "id": "7a987d08",
   "metadata": {},
   "outputs": [],
   "source": [
    "# Replace missing values with 999 and convert column to integer type\n",
    "order_products['add_to_cart_order'] = order_products['add_to_cart_order'].fillna(999).astype(int) "
   ]
  },
  {
   "cell_type": "markdown",
   "id": "d796f60c",
   "metadata": {},
   "source": [
    "There are 70 orders with at least one missing value in the 'add_to_cart_order' column of the order_products Dataframe and that all of the orders with missing values in 'add_to_cart_order' have more than 64 products. This may be a technical issue from the data collected.\n"
   ]
  },
  {
   "cell_type": "markdown",
   "id": "short-capability",
   "metadata": {},
   "source": [
    "### [A1] Verify that the `'order_hour_of_day'` and `'order_dow'` values in the `orders` tables are sensible (i.e. `'order_hour_of_day'` ranges from 0 to 23 and `'order_dow'` ranges from 0 to 6)"
   ]
  },
  {
   "cell_type": "code",
   "execution_count": 33,
   "id": "growing-fruit",
   "metadata": {},
   "outputs": [
    {
     "name": "stdout",
     "output_type": "stream",
     "text": [
      "0 23\n"
     ]
    },
    {
     "data": {
      "text/plain": [
       "count    478952.000000\n",
       "mean         13.447034\n",
       "std           4.224567\n",
       "min           0.000000\n",
       "25%          10.000000\n",
       "50%          13.000000\n",
       "75%          16.000000\n",
       "max          23.000000\n",
       "Name: order_hour_of_day, dtype: float64"
      ]
     },
     "execution_count": 33,
     "metadata": {},
     "output_type": "execute_result"
    }
   ],
   "source": [
    "print(orders['order_hour_of_day'].min(), orders['order_hour_of_day'].max()) #Print max and min of orders for order of day\n",
    "\n",
    "orders['order_hour_of_day'].describe() #Describe order of day to see max and min"
   ]
  },
  {
   "cell_type": "code",
   "execution_count": 34,
   "id": "accessory-malaysia",
   "metadata": {},
   "outputs": [
    {
     "name": "stdout",
     "output_type": "stream",
     "text": [
      "0 6\n"
     ]
    },
    {
     "data": {
      "text/plain": [
       "count    478952.000000\n",
       "mean          2.775051\n",
       "std           2.045901\n",
       "min           0.000000\n",
       "25%           1.000000\n",
       "50%           3.000000\n",
       "75%           5.000000\n",
       "max           6.000000\n",
       "Name: order_dow, dtype: float64"
      ]
     },
     "execution_count": 34,
     "metadata": {},
     "output_type": "execute_result"
    }
   ],
   "source": [
    "print(orders['order_dow'].min(), orders['order_dow'].max()) #Print max and min for order dow\n",
    "orders['order_dow'].describe() #Describe order dow to see max and min"
   ]
  },
  {
   "cell_type": "markdown",
   "id": "b8a6f771",
   "metadata": {},
   "source": [
    "To verify that the days and hours are (0-6) and (0-23), run describe() on both to check the statistics and find that the min and max are the correct values. Here also is printed the min and max. Its shown that for days, 0 is Sunday and 6 is Saturday. For hours, 0-23 represent a 24 hour clock, where 0 is 12AM, since counting starts at 0."
   ]
  },
  {
   "cell_type": "markdown",
   "id": "a6743a70",
   "metadata": {},
   "source": [
    "### [A2] What time of day do people shop for groceries?"
   ]
  },
  {
   "cell_type": "code",
   "execution_count": 35,
   "id": "99b8e6f9",
   "metadata": {},
   "outputs": [
    {
     "name": "stdout",
     "output_type": "stream",
     "text": [
      "Most frequent time people shop for groceries at: 10\n"
     ]
    },
    {
     "data": {
      "image/png": "[encoded data removed]",
      "text/plain": [
       "<Figure size 432x288 with 1 Axes>"
      ]
     },
     "metadata": {
      "needs_background": "light"
     },
     "output_type": "display_data"
    }
   ],
   "source": [
    "#Use mode instead of mean or median to get the highest values\n",
    "print(\"Most frequent time people shop for groceries at:\", orders['order_hour_of_day'].mode()[0])\n",
    "hour_counts = orders['order_hour_of_day'].value_counts().sort_index()\n",
    "\n",
    "# Create a bar chart of order counts by hour of the day\n",
    "plt.bar(hour_counts.index, hour_counts.values)\n",
    "plt.xlabel('Hour of the Day')\n",
    "plt.ylabel('Number of Orders')\n",
    "plt.title('Distribution of Orders by Hour of the Day')\n",
    "\n",
    "plt.show()"
   ]
  },
  {
   "cell_type": "markdown",
   "id": "335ab859",
   "metadata": {},
   "source": [
    "By finding the mode, the most frequent time of day people shop for groceries is 10, which is 10AM. A bar chart shows the overall orders by hour of day, and the distribution with the highest number of orders as the busiest time between 9-17, 9AM-5PM."
   ]
  },
  {
   "cell_type": "markdown",
   "id": "documented-command",
   "metadata": {},
   "source": [
    "### [A3] What day of the week do people shop for groceries?"
   ]
  },
  {
   "cell_type": "code",
   "execution_count": 36,
   "id": "chief-digit",
   "metadata": {},
   "outputs": [
    {
     "name": "stdout",
     "output_type": "stream",
     "text": [
      "Most frequent day people shop for groceries: 0\n"
     ]
    }
   ],
   "source": [
    "print(\"Most frequent day people shop for groceries:\",orders['order_dow'].mode()[0]) # days of week is 0-6, where 0 is Sunday and 6 is Saturday"
   ]
  },
  {
   "cell_type": "code",
   "execution_count": 37,
   "id": "d0542f0d",
   "metadata": {},
   "outputs": [
    {
     "data": {
      "image/png": "[encoded data removed]",
      "text/plain": [
       "<Figure size 432x288 with 1 Axes>"
      ]
     },
     "metadata": {
      "needs_background": "light"
     },
     "output_type": "display_data"
    }
   ],
   "source": [
    "dow_counts = orders['order_dow'].value_counts().sort_index()\n",
    "plt.bar(dow_counts.index, dow_counts.values)\n",
    "plt.xlabel('Days of Week')\n",
    "plt.ylabel('Number of Orders')\n",
    "plt.title('Distribution of Orders by Days of Week')\n",
    "plt.show()"
   ]
  },
  {
   "cell_type": "markdown",
   "id": "a5e534da",
   "metadata": {},
   "source": [
    "By finding the mode, the most frequent day of people shop for groceries is 0, which is a Sunday. A bar chart shows the overall orders by day of week, and the distribution with the highest number of orders as the busiest days, with Monday coming as a close second busiest. Less people order groceries on Wednesday and Thursday."
   ]
  },
  {
   "cell_type": "markdown",
   "id": "cutting-concert",
   "metadata": {},
   "source": [
    "### [A4] How long do people wait until placing another order?"
   ]
  },
  {
   "cell_type": "code",
   "execution_count": 38,
   "id": "c231f523",
   "metadata": {},
   "outputs": [],
   "source": [
    "median_order_wait_time = orders['days_since_prior_order'].median() #Median days people wait based omn days since prior order\n",
    "mean_order_wait_time = orders['days_since_prior_order'].mean() #Mean days people wait based omn days since prior order\n"
   ]
  },
  {
   "cell_type": "code",
   "execution_count": 39,
   "id": "exciting-fantasy",
   "metadata": {},
   "outputs": [
    {
     "name": "stdout",
     "output_type": "stream",
     "text": [
      "Median days people wait until placing another order:  7\n",
      "Median days people wait until placing another order:  11\n",
      "Range of days people take from prior order: 30.0\n"
     ]
    },
    {
     "data": {
      "image/png": "[encoded data removed]",
      "text/plain": [
       "<Figure size 432x288 with 1 Axes>"
      ]
     },
     "metadata": {
      "needs_background": "light"
     },
     "output_type": "display_data"
    }
   ],
   "source": [
    "print(\"Median days people wait until placing another order: \", median_order_wait_time.astype(int))\n",
    "print(\"Median days people wait until placing another order: \", mean_order_wait_time.astype(int))\n",
    "\n",
    "min_days = orders['days_since_prior_order'].min()\n",
    "max_days = orders['days_since_prior_order'].max()\n",
    "range= max_days-min_days\n",
    "print(\"Range of days people take from prior order:\", range) \n",
    "plt.hist(orders['days_since_prior_order'], bins=30)\n",
    "plt.xlabel('Days Since Prior Order')\n",
    "plt.ylabel('Frequency')\n",
    "plt.title('Distribution of Days Since Prior Order')\n",
    "plt.show()"
   ]
  },
  {
   "cell_type": "markdown",
   "id": "37bf4139",
   "metadata": {},
   "source": [
    "Take the median to get rid of outliers in the dataset, to find how many days people wait until placing their next order, which is 7. By finding the average, or mean, of the days waited, it's noticed it was 11 days waited. A histogram of the overall data shows the range of days waited, from the minimum days to the maximum days, which was 30, and also the most frequent. Most people wait an average number of days, but others are less likely to use the service because they may go in person or have other preferences. "
   ]
  },
  {
   "cell_type": "markdown",
   "id": "packed-classic",
   "metadata": {},
   "source": [
    "### [B1] Is there a difference in `'order_hour_of_day'` distributions on Wednesdays and Saturdays? Plot the histograms for both days and describe the differences that you see."
   ]
  },
  {
   "cell_type": "code",
   "execution_count": 40,
   "id": "d89b8403",
   "metadata": {},
   "outputs": [],
   "source": [
    "wed_orders = orders[orders['order_dow'] == 3]"
   ]
  },
  {
   "cell_type": "code",
   "execution_count": 41,
   "id": "94e54e8a",
   "metadata": {},
   "outputs": [],
   "source": [
    "sat_orders = orders[orders['order_dow'] == 6]\n"
   ]
  },
  {
   "cell_type": "code",
   "execution_count": 42,
   "id": "797c90a8",
   "metadata": {},
   "outputs": [
    {
     "data": {
      "image/png": "[encoded data removed]",
      "text/plain": [
       "<Figure size 432x288 with 1 Axes>"
      ]
     },
     "metadata": {
      "needs_background": "light"
     },
     "output_type": "display_data"
    }
   ],
   "source": [
    "plt.hist(wed_orders['order_hour_of_day'], bins=24, alpha=0.5, label='Wednesday') # use 24 bins for 24 hours in a day and alpha for transparency\n",
    "plt.hist(sat_orders['order_hour_of_day'], bins=24, alpha=0.5, label='Saturday')\n",
    "plt.title('Difference of Order Hour for Wednesdays and Saturdays')\n",
    "plt.xlabel('Hour of Day')\n",
    "plt.ylabel('Count')\n",
    "plt.legend()\n",
    "plt.show()"
   ]
  },
  {
   "cell_type": "markdown",
   "id": "10e1d839",
   "metadata": {},
   "source": [
    "Reserarch shows that Wednesdays the orders peak around 10AM, while on Saturdays it peaks around 3PM, and the overall range of values is wider on Saturdays for earlier and later hours of the day."
   ]
  },
  {
   "cell_type": "markdown",
   "id": "e3891143",
   "metadata": {},
   "source": [
    "### [B2] What's the distribution for the number of orders per customer?"
   ]
  },
  {
   "cell_type": "code",
   "execution_count": 43,
   "id": "d8c26c23",
   "metadata": {},
   "outputs": [],
   "source": [
    "orders_per_user = orders.groupby('user_id')['order_id'].count()"
   ]
  },
  {
   "cell_type": "code",
   "execution_count": 44,
   "id": "00e69a66",
   "metadata": {},
   "outputs": [
    {
     "data": {
      "image/png": "[encoded data removed]",
      "text/plain": [
       "<Figure size 432x288 with 1 Axes>"
      ]
     },
     "metadata": {
      "needs_background": "light"
     },
     "output_type": "display_data"
    }
   ],
   "source": [
    "orders_per_user = orders.groupby('user_id')['order_id'].count()\n",
    "plt.hist(orders_per_user, bins=50)\n",
    "plt.title('Distibution for Number of Orders per Customer')\n",
    "plt.xlabel('Number of Orders')\n",
    "plt.ylabel('Customers')\n",
    "\n",
    "plt.show()"
   ]
  },
  {
   "cell_type": "markdown",
   "id": "e71859c1",
   "metadata": {},
   "source": [
    "This chart shows us that the number of orders seems to decline after the first few orders. It peaks at about 1-2 orders and steadily declines. This could be that people are willing to try the platform but dont continue using it barely more than 10 times. "
   ]
  },
  {
   "cell_type": "markdown",
   "id": "54a0319c",
   "metadata": {},
   "source": [
    "### [B3] What are the top 20 popular products (display their id and name)?"
   ]
  },
  {
   "cell_type": "code",
   "execution_count": 45,
   "id": "exterior-arizona",
   "metadata": {
    "scrolled": true
   },
   "outputs": [],
   "source": [
    "product_counts = order_products.groupby('product_id')['order_id'].count() "
   ]
  },
  {
   "cell_type": "code",
   "execution_count": 46,
   "id": "universal-facial",
   "metadata": {},
   "outputs": [],
   "source": [
    "product_counts = pd.merge(product_counts, products[['product_id', 'product_name']], on='product_id') #Merge "
   ]
  },
  {
   "cell_type": "code",
   "execution_count": 47,
   "id": "bbcdd20b",
   "metadata": {
    "scrolled": true
   },
   "outputs": [
    {
     "name": "stdout",
     "output_type": "stream",
     "text": [
      "       product_id              product_name\n",
      "22808       24852                    banana\n",
      "12025       13176    bag of organic bananas\n",
      "19370       21137      organic strawberries\n",
      "20077       21903      organic baby spinach\n",
      "43271       47209      organic hass avocado\n",
      "43788       47766           organic avocado\n",
      "43663       47626               large lemon\n",
      "15364       16797              strawberries\n",
      "24047       26209                     limes\n",
      "25556       27845        organic whole milk\n",
      "25666       27966       organic raspberries\n",
      "21025       22935      organic yellow onion\n",
      "22908       24964            organic garlic\n",
      "41244       45007          organic zucchini\n",
      "35996       39275       organic blueberries\n",
      "45561       49683            cucumber kirby\n",
      "25889       28204        organic fuji apple\n",
      "5375         5876             organic lemon\n",
      "7543         8277  apple honeycrisp organic\n",
      "37301       40706    organic grape tomatoes\n"
     ]
    }
   ],
   "source": [
    "popular_products = product_counts.sort_values('order_id', ascending=False).head(20)  \n",
    "print(popular_products[['product_id', 'product_name']]) #Popular products with product_id and product_name showing"
   ]
  },
  {
   "cell_type": "code",
   "execution_count": 48,
   "id": "228902b5",
   "metadata": {
    "scrolled": true
   },
   "outputs": [
    {
     "data": {
      "image/png": "[encoded data removed]",
      "text/plain": [
       "<Figure size 432x288 with 1 Axes>"
      ]
     },
     "metadata": {
      "needs_background": "light"
     },
     "output_type": "display_data"
    }
   ],
   "source": [
    "plt.barh(popular_products['product_name'], popular_products['order_id'])\n",
    "plt.xlabel('Order Count')\n",
    "plt.ylabel('Product Name')\n",
    "plt.title('Top 20 Popular Products')\n",
    "plt.show()"
   ]
  },
  {
   "cell_type": "markdown",
   "id": "e7e27f8a",
   "metadata": {},
   "source": [
    "To find the top 20 popular products, group the order products by product_id and order_id, then counting the number of orders per product. Then that series, group them with their corresponding product name and sort in ascending order, while selecting the top 20 rows. A horizontal bar chart is shown to make this more visible. From this graph, it is shown that the product, banana, is by far the most popular. Also noticeable is people tend to favor fruits and vegetables as these are the primary products in the top listed."
   ]
  },
  {
   "cell_type": "markdown",
   "id": "romantic-deposit",
   "metadata": {},
   "source": [
    "### [C1] How many items do people typically buy in one order? What does the distribution look like?"
   ]
  },
  {
   "cell_type": "code",
   "execution_count": 49,
   "id": "virtual-punch",
   "metadata": {},
   "outputs": [
    {
     "data": {
      "image/png": "[encoded data removed]",
      "text/plain": [
       "<Figure size 432x288 with 1 Axes>"
      ]
     },
     "metadata": {
      "needs_background": "light"
     },
     "output_type": "display_data"
    }
   ],
   "source": [
    "items_per_order = order_products.groupby('order_id')['product_id'].count()\n",
    "plt.hist(items_per_order, bins=50)\n",
    "plt.xlabel('Number of Items')\n",
    "plt.ylabel('Order')\n",
    "plt.title('Distribution of Number of Items per Order')\n",
    "plt.show()"
   ]
  },
  {
   "cell_type": "code",
   "execution_count": 50,
   "id": "sensitive-breathing",
   "metadata": {},
   "outputs": [],
   "source": [
    "mean_items_per_order = items_per_order.mean() #Find the mean of the items_per_order and save variable\n",
    "median_items_per_order = items_per_order.median() #Find the median of the items_per_order and save variable"
   ]
  },
  {
   "cell_type": "code",
   "execution_count": 51,
   "id": "completed-frank",
   "metadata": {},
   "outputs": [
    {
     "name": "stdout",
     "output_type": "stream",
     "text": [
      "Mean number of items per order:  10.098983215049127\n",
      "Median number of items per order:  8.0\n"
     ]
    }
   ],
   "source": [
    "print(\"Mean number of items per order: \", mean_items_per_order) #print both results\n",
    "print(\"Median number of items per order: \", median_items_per_order)"
   ]
  },
  {
   "cell_type": "markdown",
   "id": "805c0f22",
   "metadata": {},
   "source": [
    "The chart above shows that the number of items by the order, and the distribution is most significant between 2-20 items, seeming that people rarely have no more than 10 orders. Calculate the mean and median as 10.1 and 8. The amount of items could be based off of daily or weekly grocery shopping habits and meal planning."
   ]
  },
  {
   "cell_type": "markdown",
   "id": "5e6b5537",
   "metadata": {},
   "source": [
    "### [C2] What are the top 20 items that are reordered most frequently (display their names and product IDs)?"
   ]
  },
  {
   "cell_type": "code",
   "execution_count": 52,
   "id": "9374e55a",
   "metadata": {},
   "outputs": [],
   "source": [
    "reordered_products = order_products[order_products['reordered'] == 1]"
   ]
  },
  {
   "cell_type": "code",
   "execution_count": 53,
   "id": "possible-change",
   "metadata": {
    "scrolled": true
   },
   "outputs": [],
   "source": [
    "reordered_products = reordered_products.merge(products, on='product_id', how='left')"
   ]
  },
  {
   "cell_type": "code",
   "execution_count": 54,
   "id": "professional-surfing",
   "metadata": {
    "scrolled": true
   },
   "outputs": [],
   "source": [
    "#Get the products names and ids\n",
    "reordered_products_counts = reordered_products.groupby(['product_id', 'product_name'])['reordered'].count().reset_index(name='reorder_count')\n",
    "reordered_products_counts_sorted = reordered_products_counts.sort_values('reorder_count', ascending=False)"
   ]
  },
  {
   "cell_type": "code",
   "execution_count": 55,
   "id": "48dd3658",
   "metadata": {
    "scrolled": false
   },
   "outputs": [
    {
     "name": "stdout",
     "output_type": "stream",
     "text": [
      "       product_id              product_name  reorder_count\n",
      "18104       24852                    banana          55763\n",
      "9528        13176    bag of organic bananas          44450\n",
      "15368       21137      organic strawberries          28639\n",
      "15936       21903      organic baby spinach          26233\n",
      "34407       47209      organic hass avocado          23629\n",
      "34828       47766           organic avocado          18743\n",
      "20285       27845        organic whole milk          16251\n",
      "34725       47626               large lemon          15044\n",
      "20375       27966       organic raspberries          14748\n",
      "12193       16797              strawberries          13945\n",
      "19088       26209                     limes          13327\n",
      "16700       22935      organic yellow onion          11145\n",
      "18186       24964            organic garlic          10411\n",
      "32792       45007          organic zucchini          10076\n",
      "36219       49683            cucumber kirby           9538\n",
      "20543       28204        organic fuji apple           8989\n",
      "5978         8277  apple honeycrisp organic           8836\n",
      "28607       39275       organic blueberries           8799\n",
      "4267         5876             organic lemon           8412\n",
      "35905       49235       organic half & half           8389\n"
     ]
    }
   ],
   "source": [
    "top_20_reordered_products = reordered_products_counts_sorted.head(20)\n",
    "\n",
    "print(top_20_reordered_products[['product_id', 'product_name', 'reorder_count']])"
   ]
  },
  {
   "cell_type": "markdown",
   "id": "ab61aafa",
   "metadata": {},
   "source": [
    "To find the top 20 producted that are reordered and diplay their names and IDs. Take notice of products that were reordered more than once, merge the products with their product_ids, group the product_id and product_name, then count and sort. After displaying a list of the of the top 20 reordered, it showns that the list is similar to the top 20 products shown above, but has some difference and additional items. "
   ]
  },
  {
   "cell_type": "markdown",
   "id": "9d312b14",
   "metadata": {},
   "source": [
    "### [C3] For each product, what proportion of its orders are reorders?"
   ]
  },
  {
   "cell_type": "code",
   "execution_count": 56,
   "id": "8ae9f4b1",
   "metadata": {},
   "outputs": [],
   "source": [
    "# Merge order_products with products on product_id\n",
    "merged = pd.merge(order_products, products, on='product_id')"
   ]
  },
  {
   "cell_type": "code",
   "execution_count": 57,
   "id": "103e7fe1",
   "metadata": {},
   "outputs": [],
   "source": [
    "reorder_prop = merged.groupby(['product_id', 'product_name'])['reordered'].mean().reset_index()\n"
   ]
  },
  {
   "cell_type": "code",
   "execution_count": 58,
   "id": "social-individual",
   "metadata": {},
   "outputs": [
    {
     "data": {
      "text/html": [
       "<div>\n",
       "<style scoped>\n",
       "    .dataframe tbody tr th:only-of-type {\n",
       "        vertical-align: middle;\n",
       "    }\n",
       "\n",
       "    .dataframe tbody tr th {\n",
       "        vertical-align: top;\n",
       "    }\n",
       "\n",
       "    .dataframe thead th {\n",
       "        text-align: right;\n",
       "    }\n",
       "</style>\n",
       "<table border=\"1\" class=\"dataframe\">\n",
       "  <thead>\n",
       "    <tr style=\"text-align: right;\">\n",
       "      <th></th>\n",
       "      <th>product_id</th>\n",
       "      <th>product_name</th>\n",
       "      <th>reordered</th>\n",
       "    </tr>\n",
       "  </thead>\n",
       "  <tbody>\n",
       "    <tr>\n",
       "      <th>0</th>\n",
       "      <td>1</td>\n",
       "      <td>chocolate sandwich cookies</td>\n",
       "      <td>0.564286</td>\n",
       "    </tr>\n",
       "    <tr>\n",
       "      <th>1</th>\n",
       "      <td>2</td>\n",
       "      <td>all-seasons salt</td>\n",
       "      <td>0.000000</td>\n",
       "    </tr>\n",
       "    <tr>\n",
       "      <th>2</th>\n",
       "      <td>3</td>\n",
       "      <td>robust golden unsweetened oolong tea</td>\n",
       "      <td>0.738095</td>\n",
       "    </tr>\n",
       "    <tr>\n",
       "      <th>3</th>\n",
       "      <td>4</td>\n",
       "      <td>smart ones classic favorites mini rigatoni wit...</td>\n",
       "      <td>0.510204</td>\n",
       "    </tr>\n",
       "    <tr>\n",
       "      <th>4</th>\n",
       "      <td>7</td>\n",
       "      <td>pure coconut water with orange</td>\n",
       "      <td>0.500000</td>\n",
       "    </tr>\n",
       "    <tr>\n",
       "      <th>...</th>\n",
       "      <td>...</td>\n",
       "      <td>...</td>\n",
       "      <td>...</td>\n",
       "    </tr>\n",
       "    <tr>\n",
       "      <th>45568</th>\n",
       "      <td>49690</td>\n",
       "      <td>high performance energy drink</td>\n",
       "      <td>0.800000</td>\n",
       "    </tr>\n",
       "    <tr>\n",
       "      <th>45569</th>\n",
       "      <td>49691</td>\n",
       "      <td>original pancake &amp; waffle mix</td>\n",
       "      <td>0.430556</td>\n",
       "    </tr>\n",
       "    <tr>\n",
       "      <th>45570</th>\n",
       "      <td>49692</td>\n",
       "      <td>organic instant oatmeal light maple brown sugar</td>\n",
       "      <td>0.416667</td>\n",
       "    </tr>\n",
       "    <tr>\n",
       "      <th>45571</th>\n",
       "      <td>49693</td>\n",
       "      <td>spring water body wash</td>\n",
       "      <td>0.440000</td>\n",
       "    </tr>\n",
       "    <tr>\n",
       "      <th>45572</th>\n",
       "      <td>49694</td>\n",
       "      <td>burrito- steak &amp; cheese</td>\n",
       "      <td>0.333333</td>\n",
       "    </tr>\n",
       "  </tbody>\n",
       "</table>\n",
       "<p>45573 rows × 3 columns</p>\n",
       "</div>"
      ],
      "text/plain": [
       "       product_id                                       product_name  \\\n",
       "0               1                         chocolate sandwich cookies   \n",
       "1               2                                   all-seasons salt   \n",
       "2               3               robust golden unsweetened oolong tea   \n",
       "3               4  smart ones classic favorites mini rigatoni wit...   \n",
       "4               7                     pure coconut water with orange   \n",
       "...           ...                                                ...   \n",
       "45568       49690                      high performance energy drink   \n",
       "45569       49691                      original pancake & waffle mix   \n",
       "45570       49692    organic instant oatmeal light maple brown sugar   \n",
       "45571       49693                             spring water body wash   \n",
       "45572       49694                            burrito- steak & cheese   \n",
       "\n",
       "       reordered  \n",
       "0       0.564286  \n",
       "1       0.000000  \n",
       "2       0.738095  \n",
       "3       0.510204  \n",
       "4       0.500000  \n",
       "...          ...  \n",
       "45568   0.800000  \n",
       "45569   0.430556  \n",
       "45570   0.416667  \n",
       "45571   0.440000  \n",
       "45572   0.333333  \n",
       "\n",
       "[45573 rows x 3 columns]"
      ]
     },
     "metadata": {},
     "output_type": "display_data"
    }
   ],
   "source": [
    "display(reorder_prop[['product_id', 'product_name', 'reordered']])\n"
   ]
  },
  {
   "cell_type": "markdown",
   "id": "5e000da3",
   "metadata": {},
   "source": [
    "To find the proportions of the each product, of what proportions of its orders are reordered, merge the data, group, and get the mean value. Reset the index and display the reorder proportions by product_id and product_name. This shows info of higher or lower proportions reordered of each product."
   ]
  },
  {
   "cell_type": "markdown",
   "id": "subject-boxing",
   "metadata": {},
   "source": [
    "### [C4] For each customer, what proportion of their products ordered are reorders?"
   ]
  },
  {
   "cell_type": "code",
   "execution_count": 59,
   "id": "medical-couple",
   "metadata": {
    "scrolled": true
   },
   "outputs": [
    {
     "name": "stdout",
     "output_type": "stream",
     "text": [
      "user_id\n",
      "2         0.038462\n",
      "4         0.000000\n",
      "5         0.666667\n",
      "6         0.000000\n",
      "7         0.928571\n",
      "            ...   \n",
      "206203    0.222222\n",
      "206206    0.714286\n",
      "206207    0.891304\n",
      "206208    0.696000\n",
      "206209    0.320000\n",
      "Name: reordered, Length: 149626, dtype: float64\n"
     ]
    }
   ],
   "source": [
    "# Merge order_products and orders to get the user_id for each order\n",
    "merge = pd.merge(order_products, orders, on='order_id')\n",
    "# Group by user_id and get the sum of both, product id and reordered\n",
    "group = merge.groupby('user_id')['reordered'].mean()\n",
    "print(group)\n"
   ]
  },
  {
   "cell_type": "markdown",
   "id": "42972f32",
   "metadata": {},
   "source": [
    "By merging the order_products and orders, then grouping the merged data by user_id and the reordered column, it gets the sum of them and return the mean value that shows the proportion by each customer of the products that are reorders.\n"
   ]
  },
  {
   "cell_type": "markdown",
   "id": "92d35137",
   "metadata": {},
   "source": [
    "### [C5] What are the top 20 items that people put in their carts first? "
   ]
  },
  {
   "cell_type": "code",
   "execution_count": 60,
   "id": "0ae57274",
   "metadata": {
    "scrolled": false
   },
   "outputs": [
    {
     "name": "stdout",
     "output_type": "stream",
     "text": [
      "                      product_name  count  product_id\n",
      "13414                       banana  15562       24852\n",
      "7127        bag of organic bananas  11026       13176\n",
      "15028           organic whole milk   4363       27845\n",
      "11384         organic strawberries   3946       21137\n",
      "25439         organic hass avocado   3390       47209\n",
      "11786         organic baby spinach   3336       21903\n",
      "25732              organic avocado   3044       47766\n",
      "10622                 spring water   2336       19660\n",
      "9050                  strawberries   2308       16797\n",
      "15102          organic raspberries   2024       27966\n",
      "24024   sparkling water grapefruit   1914       44632\n",
      "26519          organic half & half   1797       49235\n",
      "25658                  large lemon   1737       47626\n",
      "115                           soda   1733         196\n",
      "20853     organic reduced fat milk   1397       38689\n",
      "14158                        limes   1370       26209\n",
      "6660                 hass avocados   1340       12341\n",
      "3153   organic reduced fat 2% milk   1310        5785\n",
      "14639                  half & half   1309       27086\n",
      "23335                  raspberries   1246       43352\n"
     ]
    }
   ],
   "source": [
    "\n",
    "# Merge products with order_products\n",
    "merged = pd.merge(products, order_products, on='product_id')\n",
    "\n",
    "# Filter merged dataframe to only keep rows where add_to_cart_order is 1\n",
    "filtered = merged[merged['add_to_cart_order'] == 1]\n",
    "\n",
    "# Group by product_id and product_name, count and sort\n",
    "first_products = filtered.groupby(['product_id', 'product_name']).size().reset_index(name='count').sort_values('count', ascending=False)[:20]\n",
    "\n",
    "# Display top 20 products with count and product_id\n",
    "print(first_products[['product_name', 'count', 'product_id']])\n"
   ]
  },
  {
   "cell_type": "markdown",
   "id": "bd6d5a98",
   "metadata": {},
   "source": [
    "To find the top 20 items that people put in their carts first, merge the products and order_products on product_id, then create a filter on the merged dataframe where add_to_cart_order is 1. This the first products by grouping the product_id and product_name, count and sort the first 20 in descending order. Again this follows similar but different trends to other top 20 lists. "
   ]
  },
  {
   "attachments": {},
   "cell_type": "markdown",
   "id": "5f6eabc2",
   "metadata": {},
   "source": [
    "# Overall Conclusion\n",
    "The instacart data provided was used to report insight into the shopping habits of Instacart customers. After cleaning and analyzing the data we can see trends in most common days/hours people use the platform, how many orders, how frequently, and if they are likely to make further orders. \n",
    "\n",
    "Overall, this data analysis project has provided valuable insights into the shopping habits of Instacart customers. Key findings and observations include:\n",
    "\n",
    "1. **Shopping Times**: The most frequent time for people to shop for groceries on Instacart is around 10 AM. People also tend to shop more on Sundays and Mondays.\n",
    "\n",
    "2. **Order Frequency**: The distribution of the number of orders per customer shows that most customers tend to make 1-2 orders, and the number of orders decreases as the count goes up.\n",
    "\n",
    "3. **Popular Products**: The top 20 popular products include items like bananas, strawberries, and avocados. Fruits and vegetables dominate the list.\n",
    "\n",
    "4. **Items Per Order**: People typically buy between 2-20 items in one order, with an average of around 10 items.\n",
    "\n",
    "5. **Reordered Products**: The top 20 most frequently reordered products overlap significantly with the top 20 popular products, indicating customer loyalty to certain items.\n",
    "\n",
    "6. **Reorder Proportions**: Different products have varying proportions of reorders, with some products being reordered more frequently than others.\n",
    "\n",
    "7. **Customer Reorder Proportions**: The analysis shows the proportion of products reordered by each customer, offering insights into individual shopping behaviors.\n",
    "\n",
    "8. **First Items in Carts**: The top 20 items that people put in their carts first include a variety of products, suggesting different preferences among customers.\n",
    "\n",
    "The analysis shows patterns and trends in Instacart customer behavior, which can be valuable for the company in terms of inventory management, marketing strategies, and improving the overall customer experience. It's clear that customer preferences vary widely, and understanding these variations can help Instacart cater to their customers more effectively.\n",
    "\n",
    "Please note that this analysis is based on a specific dataset from 2017, and customer behavior may have evolved over time."
   ]
  },
  {
   "cell_type": "code",
   "execution_count": null,
   "id": "f4a2af09",
   "metadata": {},
   "outputs": [],
   "source": []
  }
 ],
 "metadata": {
  "kernelspec": {
   "display_name": "Python 3 (ipykernel)",
   "language": "python",
   "name": "python3"
  },
  "language_info": {
   "codemirror_mode": {
    "name": "ipython",
    "version": 3
   },
   "file_extension": ".py",
   "mimetype": "text/x-python",
   "name": "python",
   "nbconvert_exporter": "python",
   "pygments_lexer": "ipython3",
   "version": "3.9.5"
  },
  "toc": {
   "base_numbering": 1,
   "nav_menu": {},
   "number_sections": true,
   "sideBar": true,
   "skip_h1_title": true,
   "title_cell": "Table of Contents",
   "title_sidebar": "Contents",
   "toc_cell": false,
   "toc_position": {
    "height": "calc(100% - 180px)",
    "left": "10px",
    "top": "150px",
    "width": "359.8px"
   },
   "toc_section_display": true,
   "toc_window_display": true
  },
  "vscode": {
   "interpreter": {
    "hash": "01a7be9ec63e704a62cefc5fe7a4756944464ee731be31632bdf42a4cb4688cf"
   }
  }
 },
 "nbformat": 4,
 "nbformat_minor": 5
}
